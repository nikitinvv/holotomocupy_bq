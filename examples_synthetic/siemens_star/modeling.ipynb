{
 "cells": [
  {
   "cell_type": "code",
   "execution_count": null,
   "id": "fad77fab-e206-47c1-9655-088d14fe30cb",
   "metadata": {},
   "outputs": [],
   "source": [
    "import numpy as np\n",
    "import cupy as cp\n",
    "import dxchange\n",
    "import matplotlib.pyplot as plt\n",
    "import cv2\n",
    "import xraylib\n",
    "\n",
    "from holotomocupy.holo import G\n",
    "from holotomocupy.magnification import M\n",
    "from holotomocupy.shift import S\n",
    "\n",
    "%matplotlib inline\n",
    "\n",
    "cp.cuda.Device(0).use()\n",
    "np.random.seed(10)"
   ]
  },
  {
   "cell_type": "markdown",
   "id": "3c0fdd65-1cff-451e-865e-56cd8b7882a6",
   "metadata": {},
   "source": [
    "# Init data sizes and parametes of the PXM of ID16A"
   ]
  },
  {
   "cell_type": "code",
   "execution_count": null,
   "id": "59fa16f2-1f9c-4b3a-a330-e10942f12234",
   "metadata": {},
   "outputs": [],
   "source": [
    "n = 1024  # object size in each dimension\n",
    "ntheta = 1  # number of angles (rotations)\n",
    "\n",
    "center = n/2  # rotation axis\n",
    "\n",
    "# ID16a setup\n",
    "ndist = 4\n",
    "\n",
    "detector_pixelsize = 3e-6\n",
    "energy = 33.35  # [keV] xray energy\n",
    "wavelength = 1.2398419840550367e-09/energy  # [m] wave length\n",
    "\n",
    "focusToDetectorDistance = 1.28  # [m]\n",
    "sx0 = 3.7e-4\n",
    "z1 = np.array([4.584e-3, 4.765e-3, 5.488e-3, 6.9895e-3])[:ndist]-sx0\n",
    "z2 = focusToDetectorDistance-z1\n",
    "distances = (z1*z2)/focusToDetectorDistance\n",
    "magnifications = focusToDetectorDistance/z1\n",
    "voxelsize = detector_pixelsize/magnifications[0]*2048/n  # object voxel size\n",
    "\n",
    "norm_magnifications = magnifications/magnifications[0]\n",
    "# scaled propagation distances due to magnified probes\n",
    "distances = distances*norm_magnifications**2\n",
    "\n",
    "z1p = z1[0]  # positions of the probe for reconstruction\n",
    "z2p = z1-np.tile(z1p, len(z1))\n",
    "# magnification when propagating from the probe plane to the detector\n",
    "magnifications2 = (z1p+z2p)/z1p\n",
    "# propagation distances after switching from the point source wave to plane wave,\n",
    "distances2 = (z1p*z2p)/(z1p+z2p)\n",
    "norm_magnifications2 = magnifications2/(z1p/z1[0])  # normalized magnifications\n",
    "# scaled propagation distances due to magnified probes\n",
    "distances2 = distances2*norm_magnifications2**2\n",
    "distances2 = distances2*(z1p/z1)**2\n",
    "\n",
    "# allow padding if there are shifts of the probe\n",
    "pad = n//16\n",
    "# sample size after demagnification\n",
    "ne = int(np.ceil((n+2*pad)/norm_magnifications[-1]/8))*8  # make multiple of 8"
   ]
  },
  {
   "cell_type": "markdown",
   "id": "49eb1696-bb30-496e-8c3d-565f2791112c",
   "metadata": {},
   "source": [
    "## Read real and imaginary parts of the refractive index u = delta+i beta"
   ]
  },
  {
   "cell_type": "code",
   "execution_count": null,
   "id": "8a579ce4-0cd2-4769-a03d-7614aa96b0a8",
   "metadata": {},
   "outputs": [],
   "source": [
    "img = np.zeros((ne, ne, 3), np.uint8)\n",
    "triangle = np.array([(ne//4, ne//2-ne//64), (ne//4, ne//2+ne//64), (ne//2-ne//128, ne//2)], np.float32)\n",
    "star = img[:,:,0]*0\n",
    "for i in range(0, 360, 15):\n",
    "    img = np.zeros((ne, ne, 3), np.uint8)\n",
    "    degree = i\n",
    "    theta = degree * np.pi / 180\n",
    "    rot_mat = np.array([[np.cos(theta), -np.sin(theta)],\n",
    "                        [np.sin(theta), np.cos(theta)]], np.float32)    \n",
    "    rotated = cv2.gemm(triangle-ne//2, rot_mat, 1, None, 1, flags=cv2.GEMM_2_T)+ne//2\n",
    "    cv2.fillPoly(img, [np.int32(rotated)], (255, 0, 0))\n",
    "    star+=img[:,:,0]\n",
    "[x,y] = np.meshgrid(np.arange(-ne//2,ne//2),np.arange(-ne//2,ne//2))\n",
    "x = x/ne*2\n",
    "y = y/ne*2\n",
    "# add holes in triangles\n",
    "circ = (x**2+y**2>0.145)+(x**2+y**2<0.135)\n",
    "circ *= (x**2+y**2>0.053)+(x**2+y**2<0.05)\n",
    "circ *= (x**2+y**2>0.0085)+(x**2+y**2<0.008)\n",
    "star = star*circ/255\n",
    "\n",
    "v = np.arange(-ne//2,ne//2)/ne\n",
    "[vx,vy] = np.meshgrid(v,v)\n",
    "v = np.exp(-5*(vx**2+vy**2))\n",
    "fu = np.fft.fftshift(np.fft.fftn(np.fft.fftshift(star)))\n",
    "star = np.fft.fftshift(np.fft.ifftn(np.fft.fftshift(fu*v))).real\n",
    "\n",
    "delta = 1-xraylib.Refractive_Index_Re('Au',energy,19.3)\n",
    "beta = xraylib.Refractive_Index_Im('Au',energy,19.3)\n",
    "\n",
    "thickness = 2e-6/voxelsize # siemens star thickness in pixels\n",
    "# form Transmittance function\n",
    "u = star*(-delta+1j*beta) # note -delta\n",
    "Ru = u*thickness \n",
    "psi = np.exp(1j * Ru * voxelsize * 2 * np.pi / wavelength)[np.newaxis].astype('complex64')\n",
    "fig, axs = plt.subplots(1, 2, figsize=(9, 4))\n",
    "im=axs[0].imshow(np.abs(psi[0]),cmap='gray')\n",
    "axs[0].set_title('amplitude')\n",
    "fig.colorbar(im)\n",
    "im=axs[1].imshow(np.angle(psi[0]),cmap='gray')\n",
    "axs[1].set_title('phase')\n",
    "fig.colorbar(im)"
   ]
  },
  {
   "cell_type": "markdown",
   "id": "bc0f342c-c899-4a73-9871-9717e2bc96c6",
   "metadata": {},
   "source": [
    "## Read a reference image previously recovered by the NFP (Near-field ptychogarphy) method at ID16A. "
   ]
  },
  {
   "cell_type": "code",
   "execution_count": null,
   "id": "6ae30f8e-2518-42aa-bbbc-9a2664e74e2d",
   "metadata": {},
   "outputs": [],
   "source": [
    "prb_abs = dxchange.read_tiff(f'../data/prb_id16a/prb_abs_{2048}.tiff')[0:1]\n",
    "prb_phase = dxchange.read_tiff(f'../data/prb_id16a/prb_phase_{2048}.tiff')[0:1]\n",
    "prb = prb_abs*np.exp(1j*prb_phase).astype('complex64')\n",
    "\n",
    "\n",
    "prb = prb[:, 512-pad:-512+pad, 512-pad:-512+pad]\n",
    "prb /= np.mean(np.abs(prb))\n",
    "# prb[:]=1\n",
    "\n",
    "fig, axs = plt.subplots(1, 2, figsize=(9, 4))\n",
    "im=axs[0].imshow(np.abs(prb[0]),cmap='gray')\n",
    "axs[0].set_title('abs prb')\n",
    "fig.colorbar(im)\n",
    "im=axs[1].imshow(np.angle(prb[0]),cmap='gray')\n",
    "axs[1].set_title('angle prb')\n",
    "fig.colorbar(im)"
   ]
  },
  {
   "cell_type": "markdown",
   "id": "c2a0705b",
   "metadata": {},
   "source": [
    "### Smooth the probe, the loaded one is too noisy"
   ]
  },
  {
   "cell_type": "code",
   "execution_count": null,
   "id": "93cf1c7b",
   "metadata": {},
   "outputs": [],
   "source": [
    "v = np.arange(-(n+2*pad)//2,(n+2*pad)//2)/(n+2*pad)\n",
    "[vx,vy] = np.meshgrid(v,v)\n",
    "v=np.exp(-5*(vx**2+vy**2))\n",
    "prb = np.fft.fftshift(np.fft.fftn(np.fft.fftshift(prb)))\n",
    "prb = np.fft.fftshift(np.fft.ifftn(np.fft.fftshift(prb*v)))\n",
    "prb = prb.astype('complex64')\n",
    "\n",
    "fig, axs = plt.subplots(1, 2, figsize=(9, 4))\n",
    "im=axs[0].imshow(np.abs(prb[0]),cmap='gray')\n",
    "axs[0].set_title('abs prb')\n",
    "fig.colorbar(im)\n",
    "im=axs[1].imshow(np.angle(prb[0]),cmap='gray')\n",
    "axs[1].set_title('angle prb')\n",
    "fig.colorbar(im)"
   ]
  },
  {
   "cell_type": "markdown",
   "id": "d1d02f36",
   "metadata": {},
   "source": [
    "# Shifts/drifts"
   ]
  },
  {
   "cell_type": "code",
   "execution_count": null,
   "id": "e79c03a1",
   "metadata": {},
   "outputs": [],
   "source": [
    "# drift of the probe during collection of projections\n",
    "shifts_ref = (np.random.random([ntheta, ndist, 2]).astype('float32')-0.5)*n/256  # typically small\n",
    "# drift of the probe during collection of references\n",
    "shifts_ref0 = (np.random.random([1, ndist, 2]).astype('float32')-0.5)*n/256\n",
    "\n",
    "# use the first ref image as the global reference for illumination\n",
    "shifts_ref0[0, 0, :] = 0\n",
    "\n",
    "# shift of the sample when moving between differen planes\n",
    "shifts_drift = np.zeros([ntheta, ndist, 2], dtype='float32')\n",
    "# use the first plane as the global reference for illumination\n",
    "shifts_drift[:, 1] = np.array([0.6, 0.3])\n",
    "shifts_drift[:, 2] = np.array([-1.3, 1.5])\n",
    "shifts_drift[:, 3] = np.array([2.3, -3.5])\n",
    "\n",
    "np.save('data/shifts_drift', shifts_drift)\n",
    "np.save('data/shifts_ref', shifts_ref)\n",
    "np.save('data/shifts_ref0', shifts_ref0)"
   ]
  },
  {
   "cell_type": "code",
   "execution_count": null,
   "id": "78545f2f",
   "metadata": {},
   "outputs": [],
   "source": [
    "# set shifts for simulations\n",
    "shifts = shifts_drift"
   ]
  },
  {
   "cell_type": "markdown",
   "id": "34abfd9e-9dde-4241-8055-96cec24c18fb",
   "metadata": {},
   "source": [
    "### Compute holographic projections for all angles and all distances\n",
    "#### $d=\\left|\\mathcal{G}_{z_j}((\\mathcal{G}_{z'_j}q)(M_j \\psi))\\right|_2^2$, and reference data $d^r=\\left|\\mathcal{G}_{z'_j}q\\right|$"
   ]
  },
  {
   "cell_type": "code",
   "execution_count": null,
   "id": "0472ad04",
   "metadata": {},
   "outputs": [],
   "source": [
    "from holotomocupy.chunking import gpu_batch\n",
    "\n",
    "@gpu_batch\n",
    "def fwd_holo(psi, shifts_ref, shifts, prb):\n",
    "    # print(prb.shape)\n",
    "    prb = cp.array(prb)\n",
    "    \n",
    "    data = cp.zeros([psi.shape[0],ndist,n,n],dtype='complex64')\n",
    "    for i in range(ndist):        \n",
    "        # ill shift for each acquisition\n",
    "        prbr = cp.tile(prb,[psi.shape[0],1,1])\n",
    "        \n",
    "        prbr = S(prbr, shifts_ref[:,i])    \n",
    "        # propagate illumination\n",
    "        prbr = G(prbr, wavelength, voxelsize, distances2[i])\n",
    "        # object shift for each acquisition\n",
    "        psir = S(psi, shifts[:,i]/norm_magnifications[i])      \n",
    "        \n",
    "        # scale object        \n",
    "        if ne != n:\n",
    "            psir = M(psir, norm_magnifications[i]*ne/(n+2*pad), n+2*pad)                \n",
    "        \n",
    "        # multiply the ill and object\n",
    "        psir *= prbr\n",
    "\n",
    "        # propagate both\n",
    "        psir = G(psir, wavelength, voxelsize, distances[i])   \n",
    "        data[:,i] = psir[:,pad:n+pad,pad:n+pad]\n",
    "    return data\n",
    "\n",
    "@gpu_batch\n",
    "def _fwd_holo0(prb, shifts_ref0):    \n",
    "    data = cp.zeros([1,ndist, n, n], dtype='complex64')\n",
    "    for j in range(ndist):\n",
    "        # ill shift for each acquisition\n",
    "        prbr = S(prb, shifts_ref0[:,j])                 \n",
    "        # propagate illumination \n",
    "        data[:,j]=G(prbr, wavelength, voxelsize, distances[0])[:,pad:n+pad,pad:n+pad]        \n",
    "    return data\n",
    "\n",
    "def fwd_holo0(prb): \n",
    "    return _fwd_holo0(prb, shifts_ref0)\n",
    "\n",
    "# print(prb.shape)\n",
    "fpsi = fwd_holo(psi,shifts_ref,shifts,prb)\n",
    "fref = fwd_holo0(prb)"
   ]
  },
  {
   "cell_type": "markdown",
   "id": "18e9c352-2b2c-49d7-adc0-301a05da964c",
   "metadata": {},
   "source": [
    "### Take squared absolute value to simulate data on the detector and a reference image"
   ]
  },
  {
   "cell_type": "code",
   "execution_count": null,
   "id": "f4f94fd7-b14c-4dc3-832c-2f00d1674039",
   "metadata": {},
   "outputs": [],
   "source": [
    "data = np.abs(fpsi)**2\n",
    "ref = np.abs(fref)**2"
   ]
  },
  {
   "cell_type": "code",
   "execution_count": null,
   "id": "f8739412",
   "metadata": {},
   "outputs": [],
   "source": [
    "fig, axs = plt.subplots(2, 2, figsize=(9, 9))\n",
    "im=axs[0,0].imshow(data[0,0],cmap='gray')\n",
    "axs[0,0].set_title('data for plane 0')\n",
    "fig.colorbar(im)\n",
    "im=axs[0,1].imshow(data[0,1],cmap='gray')\n",
    "axs[0,1].set_title('data for plane 1')\n",
    "fig.colorbar(im)\n",
    "im=axs[1,0].imshow(data[0,2],cmap='gray')\n",
    "axs[1,0].set_title('data for plane 2')\n",
    "fig.colorbar(im)\n",
    "im=axs[1,1].imshow(data[0,3],cmap='gray')\n",
    "axs[1,1].set_title('data for plane 3')\n",
    "fig.colorbar(im)"
   ]
  },
  {
   "cell_type": "code",
   "execution_count": null,
   "id": "f5b16adb",
   "metadata": {},
   "outputs": [],
   "source": [
    "fig, axs = plt.subplots(2, 2, figsize=(9, 9))\n",
    "im=axs[0,0].imshow(ref[0,0],cmap='gray')\n",
    "axs[0,0].set_title('ref for plane 0')\n",
    "fig.colorbar(im)\n",
    "im=axs[0,1].imshow(ref[0,1],cmap='gray')\n",
    "axs[0,1].set_title('ref for plane 1')\n",
    "fig.colorbar(im)\n",
    "im=axs[1,0].imshow(ref[0,2],cmap='gray')\n",
    "axs[1,0].set_title('ref for plane 2')\n",
    "fig.colorbar(im)\n",
    "im=axs[1,1].imshow(ref[0,3],cmap='gray')\n",
    "axs[1,1].set_title('ref for plane 3')\n",
    "fig.colorbar(im)"
   ]
  },
  {
   "cell_type": "markdown",
   "id": "80625cf6-2687-43fa-8d0a-dd3396f91aa7",
   "metadata": {},
   "source": [
    "# Save data, reference images, and shifts"
   ]
  },
  {
   "cell_type": "code",
   "execution_count": null,
   "id": "1edf3f41-30cb-4092-b90c-ca2f1f829ac7",
   "metadata": {},
   "outputs": [],
   "source": [
    "for k in range(len(distances)):\n",
    "    dxchange.write_tiff(data[:,k],f'data/data_{n}_{k}',overwrite=True)\n",
    "for k in range(len(distances)):\n",
    "    dxchange.write_tiff(ref[:,k],f'data/ref_{n}_{k}',overwrite=True)"
   ]
  }
 ],
 "metadata": {
  "kernelspec": {
   "display_name": "Python 3 (ipykernel)",
   "language": "python",
   "name": "python3"
  },
  "language_info": {
   "codemirror_mode": {
    "name": "ipython",
    "version": 3
   },
   "file_extension": ".py",
   "mimetype": "text/x-python",
   "name": "python",
   "nbconvert_exporter": "python",
   "pygments_lexer": "ipython3",
   "version": "3.10.13"
  }
 },
 "nbformat": 4,
 "nbformat_minor": 5
}
