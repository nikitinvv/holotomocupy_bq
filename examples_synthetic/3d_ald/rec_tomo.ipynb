{
 "cells": [
  {
   "cell_type": "code",
   "execution_count": null,
   "metadata": {},
   "outputs": [],
   "source": [
    "import numpy as np\n",
    "import cupy as cp\n",
    "import matplotlib.pyplot as plt\n",
    "from holotomocupy.proc import linear, dai_yuan\n",
    "from holotomocupy.tomo import R,RT\n",
    "from holotomocupy.chunking import gpu_batch\n",
    "from holotomocupy.utils import *"
   ]
  },
  {
   "cell_type": "code",
   "execution_count": null,
   "metadata": {},
   "outputs": [],
   "source": [
    "n = 256  # object size in each dimension\n",
    "ntheta = 180  # number of angles (rotations)\n",
    "detector_pixelsize = 3e-6\n",
    "energy = 17.05  # [keV] xray energy\n",
    "wavelength = 1.2398419840550367e-09/energy  # [m] wave length\n",
    "\n",
    "focusToDetectorDistance = 1.208  # [m]\n",
    "sx0 = -2.493e-3\n",
    "z1 = np.array([1.5335e-3, 1.7065e-3, 2.3975e-3, 3.8320e-3])-sx0\n",
    "z2 = focusToDetectorDistance-z1\n",
    "distances = (z1*z2)/focusToDetectorDistance\n",
    "magnifications = focusToDetectorDistance/z1\n",
    "voxelsize = detector_pixelsize/magnifications[0]*2048/n  # object voxel size\n",
    "norm_magnifications = magnifications/magnifications[0]\n",
    "\n",
    "center = n/2  # rotation axis\n",
    "theta = np.linspace(0, np.pi, ntheta).astype('float32')  # projection angles\n",
    "\n",
    "pad = n//16\n",
    "# sample size after demagnification\n",
    "ne = int(np.ceil((n+2*pad)/norm_magnifications[-1]/8))*8  # make multiple of 8\n"
   ]
  },
  {
   "cell_type": "code",
   "execution_count": null,
   "metadata": {},
   "outputs": [],
   "source": [
    "psi_abs = read_tiff('data/rec_abs.tiff')[:]\n",
    "psi_angle = read_tiff('data/rec_angle.tiff')[:]\n",
    "psi = psi_abs*np.exp(1j*psi_angle)"
   ]
  },
  {
   "cell_type": "code",
   "execution_count": null,
   "metadata": {},
   "outputs": [],
   "source": [
    "plt.imshow(np.angle(psi[0]),cmap='gray')\n",
    "plt.colorbar()"
   ]
  },
  {
   "cell_type": "code",
   "execution_count": null,
   "metadata": {},
   "outputs": [],
   "source": [
    "data = -1j*wavelength/(2*np.pi)*np.log(psi)/voxelsize\n",
    "\n",
    "mshow_complex(data[0])\n"
   ]
  },
  {
   "cell_type": "code",
   "execution_count": null,
   "metadata": {},
   "outputs": [],
   "source": [
    "\n",
    "\n",
    "def line_search(minf, gamma, fu, fd):\n",
    "    \"\"\" Line search for the step sizes gamma\"\"\"\n",
    "    while (minf(fu)-minf(fu+gamma*fd) < 0 and gamma > 1e-12):\n",
    "        gamma *= 0.5\n",
    "    if (gamma <= 1e-12):  # direction not found\n",
    "        # print('no direction')\n",
    "        gamma = 0\n",
    "    return gamma\n",
    "\n",
    "def cg_tomo(data, init, pars):\n",
    "    \"\"\"Conjugate gradients method for tomogarphy\"\"\"\n",
    "    # minimization functional\n",
    "    @gpu_batch\n",
    "    def _minf(Ru,data):\n",
    "        res = cp.empty(data.shape[0],dtype='float32')\n",
    "        for k in range(data.shape[0]):\n",
    "            res[k] = np.linalg.norm(Ru[k]-data[k])**2\n",
    "        return res\n",
    "    \n",
    "    def minf(Ru):\n",
    "        res = np.sum(_minf(Ru,data))\n",
    "        return res\n",
    "    \n",
    "    u = init.copy()\n",
    "    conv = np.zeros(1+pars['niter']//pars['err_step'])\n",
    "    \n",
    "    for i in range(pars['niter']):\n",
    "        fu = R(u,theta,center*ne/n)\n",
    "        grad = RT(fu-data,theta,center*ne/n)/np.float32(ne*ntheta)\n",
    "        # Dai-Yuan direction\n",
    "        if i == 0:\n",
    "            d = -grad\n",
    "        else:\n",
    "            d = dai_yuan(d,grad,grad0)\n",
    "\n",
    "        grad0 = grad\n",
    "        fd = R(d, theta, center*ne/n)\n",
    "        gamma = line_search(minf, pars['gamma'], fu, fd)\n",
    "        u = linear(u,d,1,gamma)\n",
    "        if i % pars['err_step'] == 0:\n",
    "            fu = R(u, theta, center*ne/n)\n",
    "            err = minf(fu)\n",
    "            conv[i//pars['err_step']] = err\n",
    "            print(f'{i}) {gamma=}, {err=:1.5e}')\n",
    "\n",
    "        if i % pars['vis_step'] == 0:\n",
    "            mshow_complex(u[ne//2])\n",
    "            \n",
    "    return u, conv\n",
    "\n",
    "\n",
    "pars = {'niter': 65, 'err_step': 4, 'vis_step': 16, 'gamma': 1}\n",
    "\n",
    "# if by chunk on gpu\n",
    "# rec = np.zeros([ne,ne,ne],dtype='complex64')\n",
    "# data_rec = data.swapaxes(0,1)\n",
    "\n",
    "# if fully on gpu\n",
    "rec = cp.zeros([ne,ne,ne],dtype='complex64')\n",
    "data_rec = cp.array(data.swapaxes(0,1))\n",
    "rec, conv = cg_tomo(data_rec, rec, pars)"
   ]
  },
  {
   "cell_type": "code",
   "execution_count": null,
   "metadata": {},
   "outputs": [],
   "source": [
    "plt.imshow(rec[ne//2,ne//4:-ne//4,ne//4:-ne//4].real.get(),cmap='gray')\n",
    "plt.colorbar()"
   ]
  }
 ],
 "metadata": {
  "kernelspec": {
   "display_name": "holotomo",
   "language": "python",
   "name": "python3"
  },
  "language_info": {
   "codemirror_mode": {
    "name": "ipython",
    "version": 3
   },
   "file_extension": ".py",
   "mimetype": "text/x-python",
   "name": "python",
   "nbconvert_exporter": "python",
   "pygments_lexer": "ipython3",
   "version": "3.10.13"
  }
 },
 "nbformat": 4,
 "nbformat_minor": 2
}
