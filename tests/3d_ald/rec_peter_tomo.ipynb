{
 "cells": [
  {
   "cell_type": "code",
   "execution_count": 12,
   "id": "fad77fab-e206-47c1-9655-088d14fe30cb",
   "metadata": {},
   "outputs": [],
   "source": [
    "import numpy as np\n",
    "import dxchange\n",
    "import holotomo\n",
    "import matplotlib.pyplot as plt\n",
    "import cupy as cp\n",
    "import scipy.ndimage as ndimage\n",
    "import numpy as np\n",
    "import sys\n",
    "import tomoalign\n",
    "\n",
    "%matplotlib inline\n"
   ]
  },
  {
   "cell_type": "markdown",
   "id": "3c0fdd65-1cff-451e-865e-56cd8b7882a6",
   "metadata": {},
   "source": [
    "# Init data sizes and parametes of the PXM of ID16A"
   ]
  },
  {
   "cell_type": "code",
   "execution_count": null,
   "id": "4d7a8597",
   "metadata": {},
   "outputs": [],
   "source": []
  },
  {
   "cell_type": "code",
   "execution_count": 13,
   "id": "59fa16f2-1f9c-4b3a-a330-e10942f12234",
   "metadata": {},
   "outputs": [],
   "source": [
    "ntheta = 1500\n",
    "n = 1536\n",
    "ne = 2560\n",
    "nz = 2\n",
    "iter = 64\n",
    "ndist = 4\n",
    "ngpus = 1\n",
    "pnz = 1\n",
    "same_prb = True\n",
    "# data = dxchange.read_tiff(f'/data/vnikitin/holo/psirec_3d_ald_angle{n}_{ntheta}_{ndist}.tiff')[:,n:n+2,n//2:-n//2]\n",
    "cut = 0#128+32+8#(428-768//2)*4\n",
    "n0 = n-cut\n",
    "theta = np.loadtxt(f'/data/viktor/id16a/3d_ald4/3d_ald4_ht_10nm_/angles_file.txt').astype('float32')[:]/180*np.pi\n"
   ]
  },
  {
   "cell_type": "code",
   "execution_count": 17,
   "id": "e7f9c787",
   "metadata": {},
   "outputs": [
    {
     "name": "stdout",
     "output_type": "stream",
     "text": [
      "0\n",
      "/data/vnikitin/holo/3d_ald/rpaganin_probe_True_1536_150_4_0/r01024.tiff\n",
      "1\n",
      "/data/vnikitin/holo/3d_ald/rpaganin_probe_True_1536_150_4_1/r01024.tiff\n",
      "2\n",
      "/data/vnikitin/holo/3d_ald/rpaganin_probe_True_1536_150_4_2/r01024.tiff\n",
      "3\n",
      "/data/vnikitin/holo/3d_ald/rpaganin_probe_True_1536_150_4_3/r01024.tiff\n",
      "4\n",
      "/data/vnikitin/holo/3d_ald/rpaganin_probe_True_1536_150_4_4/r01024.tiff\n",
      "5\n",
      "/data/vnikitin/holo/3d_ald/rpaganin_probe_True_1536_150_4_5/r01024.tiff\n"
     ]
    }
   ],
   "source": [
    "nz = 2\n",
    "pnz =1\n",
    "iter = 2048\n",
    "ngpus = 4\n",
    "init = np.zeros([nz,n0,n0],dtype='float32')\n",
    "data = np.zeros([1500,nz,n0],dtype='float32')\n",
    "\n",
    "center = 791\n",
    "for st in range(0,1500//250):\n",
    "    print(st)\n",
    "    str = f'/data/vnikitin/holo/3d_ald/rpaganin_probe_{same_prb}_{n}_{150}_{ndist}_{st}/r{iter:05}.tiff'\n",
    "    print(str)\n",
    "    data[st:1500:1500//150] = dxchange.read_tiff(str)[:,ne//2-n//2+472*2:ne//2-n//2+472*2+2,ne//2-n//2:ne//2+n//2]\n",
    "\n",
    "with tomoalign.SolverTomo(theta, ntheta, nz, n0, pnz, center, ngpus) as tslv:\n",
    "    u = tslv.cg_tomo_batch(data, init, 256)\n",
    "    dxchange.write_tiff(u, f'/data/vnikitin/holo/3d_ald/rfinal_probe_{same_prb}_{n}_{ntheta}_{ndist}/cg/r_{iter:04}',overwrite=True)"
   ]
  },
  {
   "cell_type": "code",
   "execution_count": 4,
   "id": "70bee3a9",
   "metadata": {},
   "outputs": [],
   "source": [
    "dxchange.write_tiff(u, f'/data/vnikitin/holo/3d_ald/rpaganin_probe_{same_prb}_{n}_{ntheta}_{ndist}/cgfull/r_{iter:04}',overwrite=True)"
   ]
  },
  {
   "cell_type": "markdown",
   "id": "49eb1696-bb30-496e-8c3d-565f2791112c",
   "metadata": {},
   "source": [
    "## Read data"
   ]
  },
  {
   "cell_type": "code",
   "execution_count": 4,
   "id": "a7b82c4e",
   "metadata": {},
   "outputs": [
    {
     "ename": "NameError",
     "evalue": "name 'll' is not defined",
     "output_type": "error",
     "traceback": [
      "\u001b[0;31m---------------------------------------------------------------------------\u001b[0m",
      "\u001b[0;31mNameError\u001b[0m                                 Traceback (most recent call last)",
      "Cell \u001b[0;32mIn[4], line 36\u001b[0m\n\u001b[1;32m     33\u001b[0m     data[st:\u001b[38;5;241m1500\u001b[39m:\u001b[38;5;241m1500\u001b[39m\u001b[38;5;241m/\u001b[39m\u001b[38;5;241m/\u001b[39m\u001b[38;5;241m125\u001b[39m] \u001b[38;5;241m=\u001b[39m dxchange\u001b[38;5;241m.\u001b[39mread_tiff(\u001b[38;5;124mf\u001b[39m\u001b[38;5;124m'\u001b[39m\u001b[38;5;124m/data/vnikitin/holo/3d_ald/rsame_probe_\u001b[39m\u001b[38;5;132;01m{\u001b[39;00msame_prb\u001b[38;5;132;01m}\u001b[39;00m\u001b[38;5;124m_\u001b[39m\u001b[38;5;132;01m{\u001b[39;00mn\u001b[38;5;132;01m}\u001b[39;00m\u001b[38;5;124m_\u001b[39m\u001b[38;5;132;01m{\u001b[39;00m\u001b[38;5;241m125\u001b[39m\u001b[38;5;132;01m}\u001b[39;00m\u001b[38;5;124m_\u001b[39m\u001b[38;5;132;01m{\u001b[39;00mndist\u001b[38;5;132;01m}\u001b[39;00m\u001b[38;5;124m_\u001b[39m\u001b[38;5;132;01m{\u001b[39;00mst\u001b[38;5;132;01m}\u001b[39;00m\u001b[38;5;124m/r\u001b[39m\u001b[38;5;132;01m{\u001b[39;00m\u001b[38;5;28miter\u001b[39m\u001b[38;5;132;01m:\u001b[39;00m\u001b[38;5;124m05\u001b[39m\u001b[38;5;132;01m}\u001b[39;00m\u001b[38;5;124m.tiff\u001b[39m\u001b[38;5;124m'\u001b[39m)[:,ne\u001b[38;5;241m/\u001b[39m\u001b[38;5;241m/\u001b[39m\u001b[38;5;241m2\u001b[39m\u001b[38;5;241m-\u001b[39mn\u001b[38;5;241m/\u001b[39m\u001b[38;5;241m/\u001b[39m\u001b[38;5;241m2\u001b[39m\u001b[38;5;241m+\u001b[39m\u001b[38;5;241m320\u001b[39m\u001b[38;5;241m-\u001b[39m\u001b[38;5;241m128\u001b[39m:ne\u001b[38;5;241m/\u001b[39m\u001b[38;5;241m/\u001b[39m\u001b[38;5;241m2\u001b[39m\u001b[38;5;241m-\u001b[39mn\u001b[38;5;241m/\u001b[39m\u001b[38;5;241m/\u001b[39m\u001b[38;5;241m2\u001b[39m\u001b[38;5;241m+\u001b[39m\u001b[38;5;241m1344\u001b[39m\u001b[38;5;241m+\u001b[39m\u001b[38;5;241m128\u001b[39m,ne\u001b[38;5;241m/\u001b[39m\u001b[38;5;241m/\u001b[39m\u001b[38;5;241m2\u001b[39m\u001b[38;5;241m-\u001b[39mn\u001b[38;5;241m/\u001b[39m\u001b[38;5;241m/\u001b[39m\u001b[38;5;241m2\u001b[39m\u001b[38;5;241m+\u001b[39m\u001b[38;5;241m44\u001b[39m\u001b[38;5;241m+\u001b[39m\u001b[38;5;241m42\u001b[39m\u001b[38;5;241m-\u001b[39m\u001b[38;5;241m64\u001b[39m:ne\u001b[38;5;241m/\u001b[39m\u001b[38;5;241m/\u001b[39m\u001b[38;5;241m2\u001b[39m\u001b[38;5;241m+\u001b[39mn\u001b[38;5;241m/\u001b[39m\u001b[38;5;241m/\u001b[39m\u001b[38;5;241m2\u001b[39m\u001b[38;5;241m-\u001b[39m\u001b[38;5;241m42\u001b[39m\u001b[38;5;241m+\u001b[39m\u001b[38;5;241m64\u001b[39m]\n\u001b[1;32m     34\u001b[0m dxchange\u001b[38;5;241m.\u001b[39mwrite_tiff_stack(data,\u001b[38;5;124mf\u001b[39m\u001b[38;5;124m'\u001b[39m\u001b[38;5;124m/data/vnikitin/holo/3d_ald/data/\u001b[39m\u001b[38;5;132;01m{\u001b[39;00m\u001b[38;5;28miter\u001b[39m\u001b[38;5;132;01m:\u001b[39;00m\u001b[38;5;124m05\u001b[39m\u001b[38;5;132;01m}\u001b[39;00m\u001b[38;5;124m.tiff\u001b[39m\u001b[38;5;124m'\u001b[39m,overwrite\u001b[38;5;241m=\u001b[39m\u001b[38;5;28;01mTrue\u001b[39;00m)\n\u001b[0;32m---> 36\u001b[0m \u001b[43mll\u001b[49m\n\u001b[1;32m     37\u001b[0m niteradmm \u001b[38;5;241m=\u001b[39m [\u001b[38;5;241m132\u001b[39m, \u001b[38;5;241m66\u001b[39m, \u001b[38;5;241m44\u001b[39m]  \u001b[38;5;66;03m# number of iterations in the ADMM scheme\u001b[39;00m\n\u001b[1;32m     38\u001b[0m \u001b[38;5;66;03m# niteradmm = [2,2,2]  # number of iterations in the ADMM scheme\u001b[39;00m\n",
      "\u001b[0;31mNameError\u001b[0m: name 'll' is not defined"
     ]
    }
   ],
   "source": [
    "ngpus = 4\n",
    "iter = 960\n",
    "n0 = 1536-44-212\n",
    "nz = 2#1024+256\n",
    "pnz = 1\n",
    "data = np.zeros([1500,nz,n0],dtype='float32')\n",
    "# for st in range(0,1500//125):\n",
    "#     #data[st:1500:1500//125] = dxchange.read_tiff(f'/data/vnikitin/holo/3d_ald/rsame_probe_{same_prb}_{n}_{125}_{ndist}_{st}/r{iter:05}.tiff')[:,ne//2-n//2+320-128:ne//2-n//2+1344+128,ne//2-n//2+22+117:ne//2+n//2-117]\n",
    "#     data[st:1500:1500//125] = dxchange.read_tiff(f'/data/vnikitin/holo/3d_ald/rsame_probe_{same_prb}_{n}_{125}_{ndist}_{st}/r{iter:05}.tiff')[:,ne//2-n//2+472*2:ne//2-n//2+472*2+2,ne//2-n//2+44+106:ne//2+n//2-+106]\n",
    "\n",
    "#     # data[st:1500:1500//125] = dxchange.read_tiff(f'/data/vnikitin/holo/3d_ald/rsame_probe_{same_prb}_{n}_{125}_{ndist}_{st}/r{iter:05}.tiff')[:,ne//2-n//2+320-128:ne//2-n//2+1344+128,ne//2-n//2+22+117:ne//2+n//2-117]\n",
    "# print(data.shape)\n",
    "\n",
    "# for center in np.arange(n0/2-2,n0/2+2,0.5):\n",
    "#     print(f'check center {center}')\n",
    "#     init = np.zeros([nz,n0,n0],dtype='float32')\n",
    "#     with tomoalign.SolverTomo(theta, ntheta, nz, n0, pnz, center, ngpus) as tslv:\n",
    "#         u = tslv.cg_tomo_batch(data, init, 512)\n",
    "#         print(f'/data/vnikitin/holo/3d_ald/rpaganin_probe_{same_prb}_{n}_{ntheta}_{ndist}/try_center/r_{center:03.1f}')\n",
    "#         dxchange.write_tiff(u[0], f'/data/vnikitin/holo/3d_ald/rpaganin_probe_{same_prb}_{n}_{ntheta}_{ndist}/try_center/r_{center:03.1f}',overwrite=True)\n",
    "\n",
    "# sss\n",
    "ngpus = 4\n",
    "iter = 1344\n",
    "n0 = 1280+128+128\n",
    "nz = 1280#2#1024+256\n",
    "pnz = 32\n",
    "ptheta = 50\n",
    "center = n0//2\n",
    "data = np.zeros([1500,nz,n0],dtype='float32')\n",
    "for st in range(0,1500//125):\n",
    "    #data[st:1500:1500//125] = dxchange.read_tiff(f'/data/vnikitin/holo/3d_ald/rsame_probe_{same_prb}_{n}_{125}_{ndist}_{st}/r{iter:05}.tiff')[:,ne//2-n//2+320-128:ne//2-n//2+1344+128,ne//2-n//2+22+117:ne//2+n//2-117]\n",
    "    data[st:1500:1500//125] = dxchange.read_tiff(f'/data/vnikitin/holo/3d_ald/rsame_probe_{same_prb}_{n}_{125}_{ndist}_{st}/r{iter:05}.tiff')[:,ne//2-n//2+320-128:ne//2-n//2+1344+128,ne//2-n//2+44+42-64:ne//2+n//2-42+64]\n",
    "dxchange.write_tiff_stack(data,f'/data/vnikitin/holo/3d_ald/data/{iter:05}.tiff',overwrite=True)\n",
    "\n",
    "ll\n",
    "niteradmm = [132, 66, 44]  # number of iterations in the ADMM scheme\n",
    "# niteradmm = [2,2,2]  # number of iterations in the ADMM scheme\n",
    "startwin = [352, 176, 88] # starting window size in optical flow estimation\n",
    "stepwin = [2, 2, 2] # step for decreasing the window size in optical flow estimtion\n",
    "\n",
    "[nz,n0] = data.shape[1:]#dxchange.write_tiff(u, f'/data/vnikitin/holo/3d_ald/rpaganin_probe_{same_prb}_{n}_{ntheta}_{ndist}/cgfull/r_{iter:04}',overwrite=True)\n",
    "res = tomoalign.admm_of_levels(\n",
    "    data, theta, pnz, ptheta, center, ngpus, niteradmm, startwin, stepwin, f'/data/vnikitin/holo/3d_ald/rpaganin_probe_{same_prb}_{n}_{ntheta}_{ndist}/iters2/', padding=False)\n",
    "\n",
    "dxchange.write_tiff_stack(\n",
    "    res['u'], f'/data/vnikitin/holo/rpaganin_probe_{same_prb}_{n}_{ntheta}_{ndist}/results_admm2/u/r', overwrite=True)\n",
    "dxchange.write_tiff_stack(\n",
    "    res['psi'], f'/data/vnikitin/holo/rpaganin_probe_{same_prb}_{n}_{ntheta}_{ndist}/results_admm2/psi/r', overwrite=True)\n",
    "raise Exception"
   ]
  },
  {
   "cell_type": "code",
   "execution_count": null,
   "id": "a4494e5d",
   "metadata": {},
   "outputs": [
    {
     "ename": "",
     "evalue": "",
     "output_type": "error",
     "traceback": [
      "\u001b[1;31mFailed to interrupt the Kernel. \n",
      "\u001b[1;31mThe kernel died. Error: ... View Jupyter <a href='command:jupyter.viewOutput'>log</a> for further details."
     ]
    }
   ],
   "source": [
    "\n",
    "init = np.zeros([nz,n0,n0],dtype='float32')\n",
    "with tomoalign.SolverTomo(theta, ntheta, nz, n0, pnz, center, ngpus) as tslv:\n",
    "    u = tslv.cg_tomo_batch(data, init, 512)\n",
    "    dxchange.write_tiff(u, f'/data/vnikitin/holo/3d_ald/rpaganin_probe_{same_prb}_{n}_{ntheta}_{ndist}/cgfull2/r_{512:04}',overwrite=True)"
   ]
  },
  {
   "cell_type": "code",
   "execution_count": 3,
   "id": "47ffe646",
   "metadata": {},
   "outputs": [
    {
     "ename": "NameError",
     "evalue": "name 'll' is not defined",
     "output_type": "error",
     "traceback": [
      "\u001b[0;31m---------------------------------------------------------------------------\u001b[0m",
      "\u001b[0;31mNameError\u001b[0m                                 Traceback (most recent call last)",
      "Cell \u001b[0;32mIn[3], line 14\u001b[0m\n\u001b[1;32m     11\u001b[0m     data[st:\u001b[38;5;241m1500\u001b[39m:\u001b[38;5;241m1500\u001b[39m\u001b[38;5;241m/\u001b[39m\u001b[38;5;241m/\u001b[39m\u001b[38;5;241m125\u001b[39m] \u001b[38;5;241m=\u001b[39m dxchange\u001b[38;5;241m.\u001b[39mread_tiff(\u001b[38;5;124mf\u001b[39m\u001b[38;5;124m'\u001b[39m\u001b[38;5;124m/data/vnikitin/holo/3d_ald/rsame_probe_\u001b[39m\u001b[38;5;132;01m{\u001b[39;00msame_prb\u001b[38;5;132;01m}\u001b[39;00m\u001b[38;5;124m_\u001b[39m\u001b[38;5;132;01m{\u001b[39;00mn\u001b[38;5;132;01m}\u001b[39;00m\u001b[38;5;124m_\u001b[39m\u001b[38;5;132;01m{\u001b[39;00m\u001b[38;5;241m125\u001b[39m\u001b[38;5;132;01m}\u001b[39;00m\u001b[38;5;124m_\u001b[39m\u001b[38;5;132;01m{\u001b[39;00mndist\u001b[38;5;132;01m}\u001b[39;00m\u001b[38;5;124m_\u001b[39m\u001b[38;5;132;01m{\u001b[39;00mst\u001b[38;5;132;01m}\u001b[39;00m\u001b[38;5;124m/r\u001b[39m\u001b[38;5;132;01m{\u001b[39;00m\u001b[38;5;28miter\u001b[39m\u001b[38;5;132;01m:\u001b[39;00m\u001b[38;5;124m05\u001b[39m\u001b[38;5;132;01m}\u001b[39;00m\u001b[38;5;124m.tiff\u001b[39m\u001b[38;5;124m'\u001b[39m)[:,ne\u001b[38;5;241m/\u001b[39m\u001b[38;5;241m/\u001b[39m\u001b[38;5;241m2\u001b[39m\u001b[38;5;241m-\u001b[39mn\u001b[38;5;241m/\u001b[39m\u001b[38;5;241m/\u001b[39m\u001b[38;5;241m2\u001b[39m\u001b[38;5;241m+\u001b[39m\u001b[38;5;241m320\u001b[39m\u001b[38;5;241m-\u001b[39m\u001b[38;5;241m128\u001b[39m:ne\u001b[38;5;241m/\u001b[39m\u001b[38;5;241m/\u001b[39m\u001b[38;5;241m2\u001b[39m\u001b[38;5;241m-\u001b[39mn\u001b[38;5;241m/\u001b[39m\u001b[38;5;241m/\u001b[39m\u001b[38;5;241m2\u001b[39m\u001b[38;5;241m+\u001b[39m\u001b[38;5;241m1344\u001b[39m\u001b[38;5;241m+\u001b[39m\u001b[38;5;241m128\u001b[39m,ne\u001b[38;5;241m/\u001b[39m\u001b[38;5;241m/\u001b[39m\u001b[38;5;241m2\u001b[39m\u001b[38;5;241m-\u001b[39mn\u001b[38;5;241m/\u001b[39m\u001b[38;5;241m/\u001b[39m\u001b[38;5;241m2\u001b[39m\u001b[38;5;241m+\u001b[39m\u001b[38;5;241m44\u001b[39m\u001b[38;5;241m+\u001b[39m\u001b[38;5;241m42\u001b[39m\u001b[38;5;241m-\u001b[39m\u001b[38;5;241m64\u001b[39m:ne\u001b[38;5;241m/\u001b[39m\u001b[38;5;241m/\u001b[39m\u001b[38;5;241m2\u001b[39m\u001b[38;5;241m+\u001b[39mn\u001b[38;5;241m/\u001b[39m\u001b[38;5;241m/\u001b[39m\u001b[38;5;241m2\u001b[39m\u001b[38;5;241m-\u001b[39m\u001b[38;5;241m42\u001b[39m\u001b[38;5;241m+\u001b[39m\u001b[38;5;241m64\u001b[39m]\n\u001b[1;32m     12\u001b[0m \u001b[38;5;66;03m# dxchange.write_tiff_stack(data,f'/data/vnikitin/holo/3d_ald/data/{iter:05}.tiff')\u001b[39;00m\n\u001b[0;32m---> 14\u001b[0m \u001b[43mll\u001b[49m\n\u001b[1;32m     15\u001b[0m niteradmm \u001b[38;5;241m=\u001b[39m [\u001b[38;5;241m64\u001b[39m, \u001b[38;5;241m32\u001b[39m, \u001b[38;5;241m64\u001b[39m]  \u001b[38;5;66;03m# number of iterations in the ADMM scheme\u001b[39;00m\n\u001b[1;32m     16\u001b[0m \u001b[38;5;66;03m# niteradmm = [2,2,2]  # number of iterations in the ADMM scheme\u001b[39;00m\n",
      "\u001b[0;31mNameError\u001b[0m: name 'll' is not defined"
     ]
    }
   ],
   "source": [
    "ngpus = 4\n",
    "iter = 1344\n",
    "n0 = 1280+128+128\n",
    "nz = 1280#2#1024+256\n",
    "pnz = 32\n",
    "ptheta = 50\n",
    "center = n0//2\n",
    "data = np.zeros([1500,nz,n0],dtype='float32')\n",
    "for st in range(0,1500//125):\n",
    "    #data[st:1500:1500//125] = dxchange.read_tiff(f'/data/vnikitin/holo/3d_ald/rsame_probe_{same_prb}_{n}_{125}_{ndist}_{st}/r{iter:05}.tiff')[:,ne//2-n//2+320-128:ne//2-n//2+1344+128,ne//2-n//2+22+117:ne//2+n//2-117]\n",
    "    data[st:1500:1500//125] = dxchange.read_tiff(f'/data/vnikitin/holo/3d_ald/rsame_probe_{same_prb}_{n}_{125}_{ndist}_{st}/r{iter:05}.tiff')[:,ne//2-n//2+320-128:ne//2-n//2+1344+128,ne//2-n//2+44+42-64:ne//2+n//2-42+64]\n",
    "# dxchange.write_tiff_stack(data,f'/data/vnikitin/holo/3d_ald/data/{iter:05}.tiff')\n",
    "\n",
    "niteradmm = [64, 32, 64]  # number of iterations in the ADMM scheme\n",
    "# niteradmm = [2,2,2]  # number of iterations in the ADMM scheme\n",
    "startwin = [n0//4, n0//2, n0] # starting window size in optical flow estimation\n",
    "stepwin = [0, 0, 0] # step for decreasing the window size in optical flow estimtion\n",
    "\n",
    "[nz,n0] = data.shape[1:]#dxchange.write_tiff(u, f'/data/vnikitin/holo/3d_ald/rpaganin_probe_{same_prb}_{n}_{ntheta}_{ndist}/cgfull/r_{iter:04}',overwrite=True)\n",
    "res = tomoalign.admm_of_levels(\n",
    "    data, theta, pnz, ptheta, center, ngpus, niteradmm, startwin, stepwin, f'/data/vnikitin/holo/3d_ald/rpaganin_probe_{same_prb}_{n}_{ntheta}_{ndist}/iters2_lowdens/', padding=False)\n",
    "\n",
    "dxchange.write_tiff_stack(\n",
    "    res['u'], f'/data/vnikitin/holo/rpaganin_probe_{same_prb}_{n}_{ntheta}_{ndist}/results_admm2_lowdens/u/r', overwrite=True)\n",
    "dxchange.write_tiff_stack(\n",
    "    res['psi'], f'/data/vnikitin/holo/rpaganin_probe_{same_prb}_{n}_{ntheta}_{ndist}/results_admm2_lowdens/psi/r', overwrite=True)\n",
    "raise Exception"
   ]
  },
  {
   "cell_type": "code",
   "execution_count": null,
   "id": "7494fbf0",
   "metadata": {},
   "outputs": [],
   "source": []
  }
 ],
 "metadata": {
  "kernelspec": {
   "display_name": "Python 3 (ipykernel)",
   "language": "python",
   "name": "python3"
  },
  "language_info": {
   "codemirror_mode": {
    "name": "ipython",
    "version": 3
   },
   "file_extension": ".py",
   "mimetype": "text/x-python",
   "name": "python",
   "nbconvert_exporter": "python",
   "pygments_lexer": "ipython3",
   "version": "3.10.13"
  }
 },
 "nbformat": 4,
 "nbformat_minor": 5
}
