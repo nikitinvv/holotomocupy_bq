{
 "cells": [
  {
   "cell_type": "code",
   "execution_count": 31,
   "id": "fad77fab-e206-47c1-9655-088d14fe30cb",
   "metadata": {},
   "outputs": [],
   "source": [
    "import numpy as np\n",
    "import dxchange\n",
    "import holotomo\n",
    "import matplotlib.pyplot as plt\n",
    "import cupy as cp\n",
    "import scipy.ndimage as ndimage\n",
    "import numpy as np\n",
    "import sys\n",
    "import tomoalign\n",
    "\n",
    "%matplotlib inline\n"
   ]
  },
  {
   "cell_type": "markdown",
   "id": "3c0fdd65-1cff-451e-865e-56cd8b7882a6",
   "metadata": {},
   "source": [
    "# Init data sizes and parametes of the PXM of ID16A"
   ]
  },
  {
   "cell_type": "code",
   "execution_count": null,
   "id": "b21583e4",
   "metadata": {},
   "outputs": [],
   "source": [
    "ntheta = 1500\n",
    "n = 1536\n",
    "ne = 2528\n",
    "nz = 1280\n",
    "ndist = 4\n",
    "ngpus = 2\n",
    "pnz = 32\n",
    "same_prb = True"
   ]
  },
  {
   "cell_type": "code",
   "execution_count": null,
   "id": "4d7a8597",
   "metadata": {},
   "outputs": [],
   "source": [
    "def apply_shift(psi, p):\n",
    "    \"\"\"Apply shift for all projections.\"\"\"\n",
    "    psi = cp.array(psi)\n",
    "    p = cp.array(p)\n",
    "    [nz,n] = psi.shape[1:]\n",
    "    tmp = cp.pad(psi,((0,0),(nz//2,nz//2),(n//2,n//2)), 'symmetric')\n",
    "    [x, y] = cp.meshgrid(cp.fft.rfftfreq(2*n),\n",
    "                         cp.fft.fftfreq(2*nz))\n",
    "    shift = cp.exp(-2*cp.pi*1j *\n",
    "                   (x*p[:, 1, None, None]+y*p[:, 0, None, None]))\n",
    "    res0 = cp.fft.irfft2(shift*cp.fft.rfft2(tmp))\n",
    "    res = res0[:, nz//2:3*nz//2, n//2:3*n//2].get()\n",
    "    return res\n",
    "\n",
    "shifts = np.zeros([1500,2])\n",
    "shifts[:,0] = -np.linspace(0,5,1500)\n",
    "shifts[:,1] = 0 \n",
    "\n",
    "nz=1280\n",
    "ngpus=2\n",
    "iter = 192\n",
    "center = 791\n",
    "data = np.zeros([1500,nz,n],dtype='float32')\n",
    "shiftc = int(center-n//2)\n",
    "\n",
    "theta = np.loadtxt(f'/data/viktor/id16a/3d_ald4/3d_ald4_ht_10nm_/angles_file.txt').astype('float32')[:]/180*np.pi\n",
    "\n",
    "for st in range(0,1500//250):\n",
    "    data[st:1500:1500//250] = dxchange.read_tiff(f'/data/vnikitin/holo/3d_ald/rfinal_probe_{same_prb}_{n}_{250}_{ndist}_{st}/r{iter:05}.tiff')[:,800:800+nz,ne//2-n//2+shiftc:ne//2+n//2+shiftc]\n",
    "    \n",
    "data_new = data.copy()\n",
    "for k in range(ntheta):\n",
    "    data_new[k:k+1] = apply_shift(data[k:k+1],-shifts[k:k+1])\n",
    "dxchange.write_tiff_stack(data_new,f'/data/vnikitin/holo/3d_ald/data_new/3.tiff',overwrite=True)\n",
    "\n",
    "init = np.zeros([nz,n,n],dtype='float32')\n",
    "with tomoalign.SolverTomo(theta, ntheta, nz, n, 32, center, ngpus) as tslv:\n",
    "    u = tslv.cg_tomo_batch(data_new, init, 400)\n",
    "    dxchange.write_tiff(u, f'/data/vnikitin/holo/3d_ald/rfinal_probe_{same_prb}_{n}_{ntheta}_{ndist}/cgfinal/r_{400:04}',overwrite=True)\n",
    "\n",
    "\n",
    "# noprobe\n",
    "iter = 160\n",
    "for st in range(0,1500//250):\n",
    "    data[st:1500:1500//250] = dxchange.read_tiff(f'/data/vnikitin/holo/3d_ald/rfinal_probe_{same_prb}_{n}_{250}_{ndist}_{st}/r{iter:05}noprobe.tiff')[:,800:800+nz,ne//2-n//2+shiftc:ne//2+n//2+shiftc]\n",
    "    \n",
    "data_new = data.copy()\n",
    "for k in range(ntheta):\n",
    "    data_new[k:k+1] = apply_shift(data[k:k+1],-shifts[k:k+1])\n",
    "dxchange.write_tiff_stack(data_new,f'/data/vnikitin/holo/3d_ald/data_new/3noprobe.tiff',overwrite=True)\n",
    "\n",
    "init = np.zeros([nz,n,n],dtype='float32')\n",
    "with tomoalign.SolverTomo(theta, ntheta, nz, n, 32, center, ngpus) as tslv:\n",
    "    u = tslv.cg_tomo_batch(data_new, init, 400)\n",
    "    dxchange.write_tiff(u, f'/data/vnikitin/holo/3d_ald/rfinal_probe_{same_prb}_{n}_{ntheta}_{ndist}/cgfinalnoprobe/r_{400:04}',overwrite=True)\n",
    "\n"
   ]
  },
  {
   "cell_type": "code",
   "execution_count": 2,
   "id": "59fa16f2-1f9c-4b3a-a330-e10942f12234",
   "metadata": {},
   "outputs": [
    {
     "name": "stdout",
     "output_type": "stream",
     "text": [
      "check center 790.0\n",
      "check center 790.5\n",
      "check center 791.0\n",
      "check center 791.5\n",
      "check center 792.0\n",
      "check center 792.5\n",
      "check center 793.0\n",
      "check center 793.5\n"
     ]
    }
   ],
   "source": [
    "ntheta = 1500\n",
    "n = 1536\n",
    "ne = 2528\n",
    "nz = 2\n",
    "iter = 64\n",
    "ndist = 4\n",
    "ngpus = 1\n",
    "pnz = 1\n",
    "same_prb = True\n",
    "# data = dxchange.read_tiff(f'/data/vnikitin/holo/psirec_3d_ald_angle{n}_{ntheta}_{ndist}.tiff')[:,n:n+2,n//2:-n//2]\n",
    "cut = 0#128+32+8#(428-768//2)*4\n",
    "n0 = n-cut\n",
    "data = np.zeros([1500,nz,n0],dtype='float32')\n",
    "for st in range(0,1500//250):\n",
    "    data[st:1500:1500//250] = dxchange.read_tiff(f'/data/vnikitin/holo/3d_ald/rfinal_probe_{same_prb}_{n}_{250}_{ndist}_{st}/r{iter:05}.tiff')[:,ne//2+478*2-n//2:ne//2+478*2-n//2+2,ne//2-n//2:ne//2+n//2]\n",
    "\n",
    "# # print(data.shape)\n",
    "theta = np.loadtxt(f'/data/viktor/id16a/3d_ald4/3d_ald4_ht_10nm_/angles_file.txt').astype('float32')[:]/180*np.pi\n",
    "# # print(theta)\n",
    "\n",
    "for center in np.arange(396*2-2,396*2+2,0.5):\n",
    "    print(f'check center {center}')\n",
    "    init = np.zeros([nz,n0,n0],dtype='float32')\n",
    "    with tomoalign.SolverTomo(theta, ntheta, nz, n0, pnz, center, ngpus) as tslv:\n",
    "        u = tslv.cg_tomo_batch(data, init, 256)\n",
    "        dxchange.write_tiff(u[0], f'/data/vnikitin/holo/3d_ald/rfinal_probe_{same_prb}_{n}_{ntheta}_{ndist}/try_center/r_{center:03.1f}',overwrite=True)\n",
    "\n",
    "\n",
    "# center = 789"
   ]
  },
  {
   "cell_type": "code",
   "execution_count": 12,
   "id": "9f197219",
   "metadata": {},
   "outputs": [
    {
     "name": "stdout",
     "output_type": "stream",
     "text": [
      "check center 766.0\n",
      "check center 767.0\n",
      "check center 768.0\n",
      "check center 769.0\n"
     ]
    }
   ],
   "source": [
    "center = 791\n",
    "ntheta = 1500\n",
    "n = 1536\n",
    "ne = 2528\n",
    "nz = 2\n",
    "iter = 192\n",
    "ndist = 4\n",
    "ngpus = 1\n",
    "pnz = 1\n",
    "same_prb = True\n",
    "# data = dxchange.read_tiff(f'/data/vnikitin/holo/psirec_3d_ald_angle{n}_{ntheta}_{ndist}.tiff')[:,n:n+2,n//2:-n//2]\n",
    "cut = 0#128+32+8#(428-768//2)*4\n",
    "n0 = n-cut\n",
    "data = np.zeros([1500,nz,n0],dtype='float32')\n",
    "shiftc = int(center-n//2)\n",
    "for st in range(0,1500//250):\n",
    "    data[st:1500:1500//250] = dxchange.read_tiff(f'/data/vnikitin/holo/3d_ald/rfinal_probe_{same_prb}_{n}_{250}_{ndist}_{st}/r{iter:05}.tiff')[:,ne//2+478*2-n//2:ne//2+478*2-n//2+2,ne//2-n//2+shiftc:ne//2+n//2+shiftc]\n",
    "\n",
    "# # print(data.shape)\n",
    "theta = np.loadtxt(f'/data/viktor/id16a/3d_ald4/3d_ald4_ht_10nm_/angles_file.txt').astype('float32')[:]/180*np.pi\n",
    "# # print(theta)\n",
    "\n",
    "for center in np.arange(n/2-2,n/2+2,1):\n",
    "    print(f'check center {center}')\n",
    "    init = np.zeros([nz,n0,n0],dtype='float32')\n",
    "    with tomoalign.SolverTomo(theta, ntheta, nz, n0, pnz, center, ngpus) as tslv:\n",
    "        u = tslv.cg_tomo_batch(data, init, 400)\n",
    "        dxchange.write_tiff(u[0], f'/data/vnikitin/holo/3d_ald/rfinal_probe_{same_prb}_{n}_{ntheta}_{ndist}/try_center2/r_{center:03.1f}',overwrite=True)\n"
   ]
  },
  {
   "cell_type": "markdown",
   "id": "30f536c3",
   "metadata": {},
   "source": [
    "# ADMM didnt help"
   ]
  },
  {
   "cell_type": "code",
   "execution_count": 9,
   "id": "47ffe646",
   "metadata": {},
   "outputs": [
    {
     "name": "stdout",
     "output_type": "stream",
     "text": [
      "(1500, 320, 384)\n",
      "iter 0, flow norm 0.00 wsize 768, rho 0.50, Lagrangian 1.3039e+06 5.3878e+05 2.6939e+05 Total 2.1120e+06 Time: 6.37 3.27 2.62 \n",
      "iter 8, flow norm 1274.18 wsize 768, rho 1.00, Lagrangian 2.3329e+05 -2.8042e+03 5.5031e+02 Total 2.3103e+05 Time: 6.76 3.36 3.15 \n",
      "iter 16, flow norm 1311.58 wsize 768, rho 1.00, Lagrangian 2.0749e+05 -1.5900e+03 6.2786e+01 Total 2.0596e+05 Time: 6.73 2.88 2.76 \n",
      "iter 24, flow norm 1350.23 wsize 768, rho 1.00, Lagrangian 1.9857e+05 -6.1993e+02 1.9573e+01 Total 1.9797e+05 Time: 7.51 3.23 3.20 \n",
      "iter 32, flow norm 1408.72 wsize 768, rho 1.00, Lagrangian 1.9491e+05 -2.8794e+02 6.5952e+00 Total 1.9462e+05 Time: 6.68 3.24 2.75 \n",
      "iter 40, flow norm 1447.42 wsize 768, rho 1.00, Lagrangian 1.9311e+05 -1.5457e+02 3.3057e+00 Total 1.9296e+05 Time: 6.68 3.38 2.66 \n",
      "iter 48, flow norm 1485.15 wsize 768, rho 1.00, Lagrangian 1.9210e+05 -9.3692e+01 1.3892e+00 Total 1.9201e+05 Time: 6.65 3.19 2.58 \n",
      "iter 56, flow norm 1512.58 wsize 768, rho 1.00, Lagrangian 1.9147e+05 -6.0858e+01 8.8134e-01 Total 1.9141e+05 Time: 6.73 3.36 3.02 \n",
      "iter 64, flow norm 1535.88 wsize 768, rho 1.00, Lagrangian 1.9105e+05 -4.1582e+01 5.1720e-01 Total 1.9101e+05 Time: 7.04 3.18 3.01 \n",
      "(1500, 640, 768)\n",
      "iter 0, flow norm 5525.25 wsize 1536, rho 0.50, Lagrangian 5.9059e+06 1.8069e+06 9.1563e+05 Total 8.6284e+06 Time: 27.41 13.06 12.65 \n",
      "iter 8, flow norm 7602.65 wsize 1536, rho 1.00, Lagrangian 9.4167e+05 -2.6076e+04 2.1968e+03 Total 9.1779e+05 Time: 26.07 13.02 12.13 \n",
      "iter 16, flow norm 7588.29 wsize 1536, rho 1.00, Lagrangian 8.3193e+05 -5.5184e+03 2.1071e+02 Total 8.2662e+05 Time: 26.11 13.46 12.70 \n",
      "iter 24, flow norm 7570.06 wsize 1536, rho 1.00, Lagrangian 8.0187e+05 -1.9082e+03 5.9541e+01 Total 8.0002e+05 Time: 25.97 12.71 12.78 \n",
      "iter 32, flow norm 7556.70 wsize 1536, rho 1.00, Lagrangian 7.9079e+05 -7.9601e+02 2.0604e+01 Total 7.9002e+05 Time: 26.48 13.15 13.16 \n",
      "(1500, 1280, 1536)\n",
      "iter 0, flow norm 30035.92 wsize 3072, rho 0.50, Lagrangian 2.4001e+07 7.9627e+06 3.8141e+06 Total 3.5778e+07 Time: 107.89 50.52 59.24 \n",
      "iter 8, flow norm 30013.93 wsize 3072, rho 1.00, Lagrangian 4.4329e+06 -1.3922e+05 9.9596e+03 Total 4.3036e+06 Time: 105.74 52.27 59.29 \n",
      "iter 16, flow norm 30013.29 wsize 3072, rho 1.00, Lagrangian 3.7839e+06 -3.8710e+04 1.1879e+03 Total 3.7464e+06 Time: 106.40 57.95 62.35 \n"
     ]
    }
   ],
   "source": [
    "# niteradmm = [65, 33, 17]  # number of iterations in the ADMM scheme\n",
    "# startwin = [n0//2, n0, 2*n0] # starting window size in optical flow estimation\n",
    "# stepwin = [0, 0, 0] # step for decreasing the window size in optical flow estimtion\n",
    "\n",
    "# res = tomoalign.admm_of_levels(\n",
    "#     data, theta, pnz, ptheta, center, ngpus, niteradmm, startwin, stepwin, f'/data/vnikitin/holo/3d_ald/rfinal_probe_{same_prb}_{n}_{ntheta}_{ndist}/iters2_lowdens/', padding=False)\n",
    "\n",
    "# dxchange.write_tiff_stack(\n",
    "#     res['u'], f'/data/vnikitin/holo/rfinal_probe_{same_prb}_{n}_{ntheta}_{ndist}/results_admm2_lowdens/u/r', overwrite=True)\n",
    "# dxchange.write_tiff_stack(\n",
    "#     res['psi'], f'/data/vnikitin/holo/rfinal_probe_{same_prb}_{n}_{ntheta}_{ndist}/results_admm2_lowdens/psi/r', overwrite=True)\n",
    "# np.save(f'/data/vnikitin/holo/rfinal_probe_{same_prb}_{n}_{ntheta}_{ndist}/results_admm2_lowdens/flow',res['flow'])\n",
    "# res['flow'].shape\n",
    "# shifts = np.mean(res['flow'],axis=(1,2))"
   ]
  },
  {
   "cell_type": "markdown",
   "id": "2db05422",
   "metadata": {},
   "source": [
    "# set manually"
   ]
  },
  {
   "cell_type": "code",
   "execution_count": 37,
   "id": "cc015bc8",
   "metadata": {},
   "outputs": [],
   "source": [
    "from matplotlib_scalebar.scalebar import ScaleBar\n",
    "voxelsize=1e-8\n",
    "offset = 8\n",
    "rec = dxchange.read_tiff(f'/data/vnikitin/holo/3d_ald/rfinal_probe_{same_prb}_{n}_{ntheta}_{ndist}/cgfinal/r_{400:04}.tiff')\n",
    "fig, ax = plt.subplots(1, figsize=(3, 3))\n",
    "plt.imshow(-rec[:,n//2-offset,:],cmap='gray')\n",
    "ax.add_artist(ScaleBar(voxelsize,location='lower right'))\n",
    "plt.colorbar()\n",
    "plt.savefig(f'figs/recv.png',dpi=300,bbox_inches='tight')\n",
    "\n",
    "fig, ax = plt.subplots(1, figsize=(3, 3))\n",
    "plt.imshow(-rec[n//2,:],cmap='gray')\n",
    "ax.add_artist(ScaleBar(voxelsize,location='lower right'))\n",
    "plt.colorbar()\n",
    "plt.savefig(f'figs/rech.png',dpi=300,bbox_inches='tight')"
   ]
  },
  {
   "cell_type": "code",
   "execution_count": null,
   "id": "668abdfa",
   "metadata": {},
   "outputs": [],
   "source": []
  },
  {
   "cell_type": "code",
   "execution_count": 38,
   "id": "d7042ff4",
   "metadata": {},
   "outputs": [],
   "source": []
  },
  {
   "cell_type": "code",
   "execution_count": 41,
   "id": "76b3a4f1",
   "metadata": {},
   "outputs": [
    {
     "name": "stdout",
     "output_type": "stream",
     "text": [
      "check center 766.0\n",
      "check center 767.0\n",
      "check center 768.0\n",
      "check center 769.0\n"
     ]
    }
   ],
   "source": [
    "center = 791\n",
    "ntheta = 1500\n",
    "n = 1536\n",
    "ne = 2528\n",
    "nz = 2\n",
    "iter = 192\n",
    "ndist = 4\n",
    "ngpus = 1\n",
    "pnz = 1\n",
    "same_prb = True\n",
    "# data = dxchange.read_tiff(f'/data/vnikitin/holo/psirec_3d_ald_angle{n}_{ntheta}_{ndist}.tiff')[:,n:n+2,n//2:-n//2]\n",
    "cut = 0#128+32+8#(428-768//2)*4\n",
    "n0 = n-cut\n",
    "data = np.zeros([1500,nz,n0],dtype='float32')\n",
    "shiftc = int(center-n//2)\n",
    "data=data_new[:,378*2:378*2+2]\n",
    "\n",
    "# # print(data.shape)\n",
    "theta = np.loadtxt(f'/data/viktor/id16a/3d_ald4/3d_ald4_ht_10nm_/angles_file.txt').astype('float32')[:]/180*np.pi\n",
    "# # print(theta)\n",
    "\n",
    "for center in np.arange(n/2-2,n/2+2,1):\n",
    "    print(f'check center {center}')\n",
    "    init = np.zeros([nz,n0,n0],dtype='float32')\n",
    "    with tomoalign.SolverTomo(theta, ntheta, nz, n0, pnz, center, ngpus) as tslv:\n",
    "        u = tslv.cg_tomo_batch(data, init, 400)\n",
    "        dxchange.write_tiff(u[0], f'/data/vnikitin/holo/3d_ald/rfinal_probe_{same_prb}_{n}_{ntheta}_{ndist}/try_center3/r_{center:03.1f}',overwrite=True)\n"
   ]
  },
  {
   "cell_type": "code",
   "execution_count": null,
   "id": "5665cf3c",
   "metadata": {},
   "outputs": [],
   "source": []
  },
  {
   "cell_type": "code",
   "execution_count": 44,
   "id": "09b818a0",
   "metadata": {},
   "outputs": [],
   "source": [
    "\n",
    "nz=1280\n",
    "init = np.zeros([nz,n0,n0],dtype='float32')\n",
    "with tomoalign.SolverTomo(theta, ntheta, nz, n0, 32, center, ngpus) as tslv:\n",
    "    u = tslv.cg_tomo_batch(data_new, init, 400)\n",
    "    dxchange.write_tiff(u, f'/data/vnikitin/holo/3d_ald/rfinal_probe_{same_prb}_{n}_{ntheta}_{ndist}/cgfinal/r_{400:04}',overwrite=True)"
   ]
  },
  {
   "cell_type": "code",
   "execution_count": null,
   "id": "73a38c2e",
   "metadata": {},
   "outputs": [],
   "source": []
  },
  {
   "cell_type": "code",
   "execution_count": null,
   "id": "7494fbf0",
   "metadata": {},
   "outputs": [],
   "source": [
    "\n",
    "# niteradmm = [132, 66, 44]  # number of iterations in the ADMM scheme\n",
    "# # niteradmm = [2,2,2]  # number of iterations in the ADMM scheme\n",
    "# startwin = [352, 176, 88] # starting window size in optical flow estimation\n",
    "# stepwin = [2, 2, 2] # step for decreasing the window size in optical flow estimtion\n",
    "\n",
    "# [nz,n0] = data.shape[1:]#dxchange.write_tiff(u, f'/data/vnikitin/holo/3d_ald/rfinal_probe_{same_prb}_{n}_{ntheta}_{ndist}/cgfull/r_{iter:04}',overwrite=True)\n",
    "# res = tomoalign.admm_of_levels(\n",
    "#     data, theta, pnz, ptheta, center, ngpus, niteradmm, startwin, stepwin, f'/data/vnikitin/holo/3d_ald/rfinal_probe_{same_prb}_{n}_{ntheta}_{ndist}/iters2/', padding=False)\n",
    "\n",
    "# dxchange.write_tiff_stack(\n",
    "#     res['u'], f'/data/vnikitin/holo/rfinal_probe_{same_prb}_{n}_{ntheta}_{ndist}/results_admm2/u/r', overwrite=True)\n",
    "# dxchange.write_tiff_stack(\n",
    "#     res['psi'], f'/data/vnikitin/holo/rfinal_probe_{same_prb}_{n}_{ntheta}_{ndist}/results_admm2/psi/r', overwrite=True)\n",
    "# raise Exception"
   ]
  }
 ],
 "metadata": {
  "kernelspec": {
   "display_name": "Python 3 (ipykernel)",
   "language": "python",
   "name": "python3"
  },
  "language_info": {
   "codemirror_mode": {
    "name": "ipython",
    "version": 3
   },
   "file_extension": ".py",
   "mimetype": "text/x-python",
   "name": "python",
   "nbconvert_exporter": "python",
   "pygments_lexer": "ipython3",
   "version": "3.10.13"
  }
 },
 "nbformat": 4,
 "nbformat_minor": 5
}
