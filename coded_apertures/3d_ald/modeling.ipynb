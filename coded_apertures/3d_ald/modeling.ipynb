{
 "cells": [
  {
   "cell_type": "code",
   "execution_count": null,
   "id": "fad77fab-e206-47c1-9655-088d14fe30cb",
   "metadata": {},
   "outputs": [],
   "source": [
    "import numpy as np\n",
    "import cupy as cp\n",
    "\n",
    "from holotomocupy.utils import *\n",
    "from holotomocupy.holo import G\n",
    "from holotomocupy.shift import S\n",
    "from holotomocupy.tomo import R\n",
    "from holotomocupy.chunking import gpu_batch\n",
    "\n",
    "\n",
    "%matplotlib inline\n",
    "\n",
    "np.random.seed(1) # fix randomness"
   ]
  },
  {
   "cell_type": "markdown",
   "id": "3c0fdd65-1cff-451e-865e-56cd8b7882a6",
   "metadata": {},
   "source": [
    "# Init data sizes and parametes of the PXM of ID16A"
   ]
  },
  {
   "cell_type": "code",
   "execution_count": null,
   "id": "59fa16f2-1f9c-4b3a-a330-e10942f12234",
   "metadata": {},
   "outputs": [],
   "source": [
    "n = 256  # object size in each dimension\n",
    "ntheta = 180  # number of angles (rotations)\n",
    "\n",
    "center = n/2  # rotation axis\n",
    "theta = cp.linspace(0, np.pi, ntheta).astype('float32')  # projection angles\n",
    "\n",
    "npos = 1  # number of code positions\n",
    "detector_pixelsize = 3e-6*0.5\n",
    "energy = 33.35  # [keV] xray energy\n",
    "wavelength = 1.2398419840550367e-09/energy  # [m] wave length\n",
    "\n",
    "focusToDetectorDistance = 1.28  # [m]\n",
    "sx0 = 3.7e-4\n",
    "z1 = 4.584e-3-sx0# np.array([4.584e-3, 4.765e-3, 5.488e-3, 6.9895e-3])[:npos]-sx0\n",
    "z1 = np.tile(z1, [npos])\n",
    "z2 = focusToDetectorDistance-z1\n",
    "distances = (z1*z2)/focusToDetectorDistance\n",
    "magnifications = focusToDetectorDistance/z1\n",
    "voxelsize = detector_pixelsize/magnifications[0]*2048/n  # object voxel size\n",
    "norm_magnifications = magnifications/magnifications[0]\n",
    "# scaled propagation distances due to magnified probes\n",
    "distances = distances*norm_magnifications**2\n",
    "\n",
    "z1p = 12e-3  # positions of the code and the probe for reconstruction\n",
    "z2p = z1-np.tile(z1p, len(z1))\n",
    "# magnification when propagating from the probe plane to the detector\n",
    "magnifications2 = z1/z1p\n",
    "# propagation distances after switching from the point source wave to plane wave,\n",
    "distances2 = (z1p*z2p)/(z1p+z2p)\n",
    "norm_magnifications2 = magnifications2/(z1p/z1[0])  # normalized magnifications\n",
    "# scaled propagation distances due to magnified probes\n",
    "distances2 = distances2*norm_magnifications2**2\n",
    "distances2 = distances2*(z1p/z1)**2\n",
    "\n",
    "# allow padding if there are shifts of the probe\n",
    "pad = n//16*0\n",
    "# sample size after demagnification\n",
    "ne = n+2*pad"
   ]
  },
  {
   "cell_type": "markdown",
   "id": "49eb1696-bb30-496e-8c3d-565f2791112c",
   "metadata": {},
   "source": [
    "### Form the refractive index u = delta+i beta for a sample"
   ]
  },
  {
   "cell_type": "code",
   "execution_count": null,
   "id": "8a579ce4-0cd2-4769-a03d-7614aa96b0a8",
   "metadata": {},
   "outputs": [],
   "source": [
    "from scipy import ndimage\n",
    "\n",
    "cube_all = np.zeros([n, n, n], dtype='float32')\n",
    "rr = (np.ones(8)*n*0.25).astype(np.int32)\n",
    "amps = [3, -3, 1, 3, -4, 1, 4]  # , -2, -4, 5 ]\n",
    "dil = np.array([33, 28, 25, 21, 16, 10, 3])/256*n  # , 6, 3,1]\n",
    "for kk in range(len(amps)):\n",
    "    cube = np.zeros([n, n, n], dtype='bool')\n",
    "    r = rr[kk]\n",
    "    p1 = n//2-r//2\n",
    "    p2 = n//2+r//2\n",
    "    for k in range(3):\n",
    "        cube = cube.swapaxes(0, k)\n",
    "        cube[p1:p2, p1, p1] = True\n",
    "        cube[p1:p2, p1, p2] = True\n",
    "        cube[p1:p2, p2, p1] = True\n",
    "        cube[p1:p2, p2, p2] = True\n",
    "        # cube[p1:p2,p2,p2] = True\n",
    "\n",
    "    [x, y, z] = np.meshgrid(np.arange(-n//2, n//2),\n",
    "                            np.arange(-n//2, n//2), np.arange(-n//2, n//2))\n",
    "    circ = (x**2+y**2+z**2) < dil[kk]**2\n",
    "    # circ = (x**2<dil[kk]**2)*(y**2<dil[kk]**2)*(z**2<dil[kk]**2)\n",
    "\n",
    "    fcirc = np.fft.fftshift(np.fft.fftn(np.fft.fftshift(circ)))\n",
    "    fcube = np.fft.fftshift(np.fft.fftn(\n",
    "        np.fft.fftshift(cube.astype('float32'))))\n",
    "    cube = np.fft.fftshift(np.fft.ifftn(np.fft.fftshift(fcube*fcirc))).real\n",
    "    cube = cube > 1\n",
    "    cube_all += amps[kk]*cube\n",
    "\n",
    "# cube_all = ndimage.rotate(cube_all,52,axes=(1,2),reshape=False,order=1)\n",
    "cube_all = ndimage.rotate(cube_all, 28, axes=(0, 1), reshape=False, order=3)\n",
    "cube_all = ndimage.rotate(cube_all, 45, axes=(0, 2), reshape=False, order=3)\n",
    "cube_all[cube_all < 0] = 0\n",
    "\n",
    "\n",
    "u0 = cube_all  # (-1*cube_all*1e-6+1j*cube_all*1e-8)/3\n",
    "\n",
    "u0 = np.roll(u0, -15*n//256, axis=2)\n",
    "u0 = np.roll(u0, -10*n//256, axis=1)\n",
    "v = np.arange(-n//2, n//2)/n\n",
    "[vx, vy, vz] = np.meshgrid(v, v, v)\n",
    "v = np.exp(-10*(vx**2+vy**2+vz**2))\n",
    "fu = np.fft.fftshift(np.fft.fftn(np.fft.fftshift(u0)))\n",
    "u0 = np.fft.fftshift(np.fft.ifftn(np.fft.fftshift(fu*v))).real\n",
    "u0[u0 < 0] = 0\n",
    "u0 = u0*(-1*1e-6+1j*1e-8)/3\n",
    "u = u0.astype('complex64')  \n",
    "\n",
    "\n",
    "np.save('data/u', u0)\n",
    "\n",
    "# if exist then load and comment the above\n",
    "u = np.load('data/u.npy').astype('complex64')\n",
    "\n",
    "mshow_complex(u[:, n//2])\n",
    "mshow_complex(u[n//2])"
   ]
  },
  {
   "cell_type": "markdown",
   "id": "b452f28e",
   "metadata": {},
   "source": [
    "### Compute tomographic projection data $\\mathcal{R}u$:"
   ]
  },
  {
   "cell_type": "code",
   "execution_count": null,
   "id": "03966cab",
   "metadata": {},
   "outputs": [],
   "source": [
    "Ru = R(u, theta, center*ne/n)\n",
    "Ru = Ru.swapaxes(0, 1)\n",
    "\n",
    "mshow_complex(Ru[0])"
   ]
  },
  {
   "cell_type": "markdown",
   "id": "dcdd4d5a",
   "metadata": {},
   "source": [
    "### Convert it to the transmittance function $e^{\\frac{2\\pi j}{\\lambda} \\mathcal{R} u }$"
   ]
  },
  {
   "cell_type": "code",
   "execution_count": null,
   "id": "d65a3b6c",
   "metadata": {},
   "outputs": [],
   "source": [
    "psi = np.exp(2*np.pi*1j/wavelength*voxelsize*Ru)\n",
    "mshow_polar(psi[0])"
   ]
  },
  {
   "cell_type": "markdown",
   "id": "bc0f342c-c899-4a73-9871-9717e2bc96c6",
   "metadata": {},
   "source": [
    "## Use prb==1 for this test"
   ]
  },
  {
   "cell_type": "code",
   "execution_count": null,
   "id": "6ae30f8e-2518-42aa-bbbc-9a2664e74e2d",
   "metadata": {},
   "outputs": [],
   "source": [
    "prb = np.ones([1,n+2*pad,n+2*pad],dtype='complex64')"
   ]
  },
  {
   "cell_type": "markdown",
   "id": "fab6f53c",
   "metadata": {},
   "source": [
    "### Generate a coded aperture, make it twice bigger than the sample to allow motion"
   ]
  },
  {
   "cell_type": "code",
   "execution_count": null,
   "id": "1b148894",
   "metadata": {},
   "outputs": [],
   "source": [
    "import random\n",
    "import xraylib\n",
    "import scipy.ndimage as ndimage\n",
    "\n",
    "# thickness of the coded aperture\n",
    "code_thickness = 1e-6 #in m\n",
    "# feature size\n",
    "ill_feature_size = 1e-6 #in m\n",
    "\n",
    "random.seed(10)\n",
    "nill = 2*ne\n",
    "ill_global = np.zeros([1,nill,nill],dtype='bool')\n",
    "for k in  range(ill_global.shape[0]):\n",
    "    ill0 = np.zeros([nill*nill],dtype='bool')\n",
    "    ill_ids = random.sample(range(0, nill*nill), nill*nill//2)\n",
    "    ill0[ill_ids] = 1\n",
    "    ill_global[k] = ill0.reshape(nill,nill)\n",
    "\n",
    "# form codes for simulations\n",
    "nill = int(ne*voxelsize/magnifications2[0]//(ill_feature_size*2))*2\n",
    "ill = np.zeros([1,nill,nill],dtype='bool')\n",
    "for k in  range(ill.shape[0]):\n",
    "    ill0 = ill_global[k]\n",
    "    ill[k] = ill0[ill0.shape[0]//2-nill//2:ill0.shape[0]//2+(nill)//2,ill0.shape[1]//2-nill//2:ill0.shape[1]//2+(nill)//2]#.reshape(nill,nill)\n",
    "    \n",
    "ill = ndimage.zoom(ill,[1,2*ne/nill,2*ne/nill],order=0,grid_mode=True,mode='grid-wrap')\n",
    "\n",
    "delta = 1-xraylib.Refractive_Index_Re('Au',energy,19.3)\n",
    "beta = xraylib.Refractive_Index_Im('Au',energy,19.3)\n",
    "\n",
    "thickness = code_thickness/voxelsize # thickness in pixels\n",
    "\n",
    "v = np.arange(-2*ne//2,2*ne//2)/2/ne\n",
    "[vx,vy] = np.meshgrid(v,v)\n",
    "v = np.exp(-5*(vx**2+vy**2))\n",
    "fill = np.fft.fftshift(np.fft.fftn(np.fft.fftshift(ill)))\n",
    "ill = np.fft.fftshift(np.fft.ifftn(np.fft.fftshift(fill*v)))\n",
    "ill = ill.astype('complex64')\n",
    "\n",
    "\n",
    "# form Transmittance function\n",
    "Rill = ill*(-delta+1j*beta)*thickness \n",
    "code = np.exp(1j * Rill * voxelsize * 2 * np.pi / wavelength).astype('complex64')\n",
    "\n",
    "mshow_polar(code[0])"
   ]
  },
  {
   "cell_type": "markdown",
   "id": "d1d02f36",
   "metadata": {},
   "source": [
    "### Shifts of the code"
   ]
  },
  {
   "cell_type": "code",
   "execution_count": null,
   "id": "e79c03a1",
   "metadata": {},
   "outputs": [],
   "source": [
    "# shifts of codes\n",
    "shifts_code = np.round((np.random.random([ntheta, npos, 2]).astype('float32')-0.5)*ne/4)\n",
    "np.save('data/shifts_code', shifts_code)\n"
   ]
  },
  {
   "cell_type": "markdown",
   "id": "34abfd9e-9dde-4241-8055-96cec24c18fb",
   "metadata": {},
   "source": [
    "### Compute holographic projections for all angles and all distances\n",
    "#### $d=\\left|\\mathcal{G}_{z}(\\mathcal{G}_{z'}(q\\mathcal{S}_{s_{j}}c)\\psi)\\right|_2^2$, and reference data $d^r=\\left|\\mathcal{G}_{z+z'}(q(\\mathcal{S}_{s_{j}'}c))\\right|$"
   ]
  },
  {
   "cell_type": "code",
   "execution_count": null,
   "id": "0472ad04",
   "metadata": {},
   "outputs": [],
   "source": [
    "@gpu_batch\n",
    "def _fwd_holo(psi, shifts_code, code, prb):\n",
    "    prb = cp.array(prb)\n",
    "    code = cp.array(code)\n",
    "\n",
    "    data = cp.zeros([psi.shape[0], npos, n, n], dtype='complex64')\n",
    "    for i in range(npos):\n",
    "        # ill shift for each acquisition\n",
    "        prbr = cp.tile(prb, [psi.shape[0], 1, 1])\n",
    "        # code shift for each acquisition\n",
    "        coder = cp.tile(code, [psi.shape[0], 1, 1])\n",
    "        coder = S(coder, shifts_code[:, i])\n",
    "        # crop the code\n",
    "        coder = coder[:, ne-n//2-pad:ne+n//2+pad, ne-n//2-pad:ne+n//2+pad]\n",
    "\n",
    "        # multiply the code and ill\n",
    "        prbr *= coder\n",
    "        # propagate illumination\n",
    "        prbr = G(prbr, wavelength, voxelsize, distances2[i])\n",
    "\n",
    "        psir = psi.copy()\n",
    "\n",
    "        # multiply the ill and object\n",
    "        psir *= prbr\n",
    "\n",
    "        # propagate both\n",
    "        psir = G(psir, wavelength, voxelsize, distances[i])\n",
    "        data[:, i] = psir[:, pad:n+pad, pad:n+pad]\n",
    "    return data\n",
    "\n",
    "\n",
    "def fwd_holo(psi, prb):\n",
    "    return _fwd_holo(psi, shifts_code, code, prb)\n",
    "\n",
    "\n",
    "# Apply the forward transform\n",
    "fpsi = fwd_holo(psi, prb)"
   ]
  },
  {
   "cell_type": "markdown",
   "id": "18e9c352-2b2c-49d7-adc0-301a05da964c",
   "metadata": {},
   "source": [
    "### Take squared absolute value to simulate data on the detector and a reference image"
   ]
  },
  {
   "cell_type": "code",
   "execution_count": null,
   "id": "f4f94fd7-b14c-4dc3-832c-2f00d1674039",
   "metadata": {},
   "outputs": [],
   "source": [
    "data = np.abs(fpsi)**2\n",
    "# show a data example\n",
    "mshow(data[0,0])"
   ]
  },
  {
   "cell_type": "markdown",
   "id": "80625cf6-2687-43fa-8d0a-dd3396f91aa7",
   "metadata": {},
   "source": [
    "### Save data and the code"
   ]
  },
  {
   "cell_type": "code",
   "execution_count": null,
   "id": "1edf3f41-30cb-4092-b90c-ca2f1f829ac7",
   "metadata": {},
   "outputs": [],
   "source": [
    "for k in range(npos):\n",
    "    write_tiff(data[:,k],f'data/data_{n}_{k}')\n",
    "np.save('data/code',code)\n"
   ]
  }
 ],
 "metadata": {
  "kernelspec": {
   "display_name": "Python 3 (ipykernel)",
   "language": "python",
   "name": "python3"
  },
  "language_info": {
   "codemirror_mode": {
    "name": "ipython",
    "version": 3
   },
   "file_extension": ".py",
   "mimetype": "text/x-python",
   "name": "python",
   "nbconvert_exporter": "python",
   "pygments_lexer": "ipython3",
   "version": "3.10.13"
  }
 },
 "nbformat": 4,
 "nbformat_minor": 5
}
