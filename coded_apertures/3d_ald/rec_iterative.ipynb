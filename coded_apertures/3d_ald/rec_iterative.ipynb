{
 "cells": [
  {
   "cell_type": "code",
   "execution_count": null,
   "id": "fad77fab-e206-47c1-9655-088d14fe30cb",
   "metadata": {},
   "outputs": [],
   "source": [
    "import numpy as np\n",
    "import cupy as cp\n",
    "from holotomocupy.holo import G, GT\n",
    "from holotomocupy.shift import S\n",
    "from holotomocupy.chunking import gpu_batch\n",
    "from holotomocupy.recon_methods import CTFPurePhase, multiPaganin\n",
    "from holotomocupy.proc import dai_yuan, linear\n",
    "from holotomocupy.utils import *\n",
    "import holotomocupy.chunking as chunking\n",
    "\n",
    "%matplotlib inline\n",
    "\n",
    "chunking.global_chunk = 60 # chunk for GPU processing"
   ]
  },
  {
   "cell_type": "markdown",
   "id": "3c0fdd65-1cff-451e-865e-56cd8b7882a6",
   "metadata": {},
   "source": [
    "# Init data sizes and parametes of the PXM of ID16A"
   ]
  },
  {
   "cell_type": "code",
   "execution_count": null,
   "id": "59fa16f2-1f9c-4b3a-a330-e10942f12234",
   "metadata": {},
   "outputs": [],
   "source": [
    "n = 256  # object size in each dimension\n",
    "ntheta = 180  # number of angles (rotations)\n",
    "\n",
    "center = n/2  # rotation axis\n",
    "theta = cp.linspace(0, np.pi, ntheta).astype('float32')  # projection angles\n",
    "\n",
    "\n",
    "npos = 1  # number of code positions \n",
    "\n",
    "detector_pixelsize = 3e-6*0.5\n",
    "energy = 33.35  # [keV] xray energy\n",
    "wavelength = 1.2398419840550367e-09/energy  # [m] wave length\n",
    "\n",
    "focusToDetectorDistance = 1.28  # [m]\n",
    "sx0 = 3.7e-4\n",
    "z1 = 4.584e-3-sx0#np.array([4.584e-3, 4.765e-3, 5.488e-3, 6.9895e-3])[:npos]-sx0\n",
    "z1 = np.tile(z1,[npos])\n",
    "z2 = focusToDetectorDistance-z1\n",
    "distances = (z1*z2)/focusToDetectorDistance\n",
    "magnifications = focusToDetectorDistance/z1\n",
    "voxelsize = detector_pixelsize/magnifications[0]*2048/n  # object voxel size\n",
    "norm_magnifications = magnifications/magnifications[0]\n",
    "# scaled propagation distances due to magnified probes\n",
    "distances = distances*norm_magnifications**2\n",
    "\n",
    "z1p = 12e-3  # positions of the code and the probe for reconstruction\n",
    "\n",
    "z2p = z1-np.tile(z1p, len(z1))\n",
    "# magnification when propagating from the probe plane to the detector\n",
    "magnifications2 = z1/z1p\n",
    "# propagation distances after switching from the point source wave to plane wave,\n",
    "distances2 = (z1p*z2p)/(z1p+z2p)\n",
    "norm_magnifications2 = magnifications2/(z1p/z1[0])  # normalized magnifications\n",
    "# scaled propagation distances due to magnified probes\n",
    "distances2 = distances2*norm_magnifications2**2\n",
    "distances2 = distances2*(z1p/z1)**2\n",
    "\n",
    "# allow padding if there are shifts of the probe\n",
    "pad = n//16*0\n",
    "# sample size after demagnification\n",
    "ne = n+2*pad\n"
   ]
  },
  {
   "cell_type": "markdown",
   "id": "49eb1696-bb30-496e-8c3d-565f2791112c",
   "metadata": {},
   "source": [
    "### Read data"
   ]
  },
  {
   "cell_type": "code",
   "execution_count": null,
   "id": "a7b82c4e",
   "metadata": {},
   "outputs": [],
   "source": [
    "data00 = np.zeros([ntheta, npos, n, n], dtype='float32')\n",
    "\n",
    "for k in range(npos):\n",
    "    data00[:, k] = read_tiff(f'data/data_{n}_{k}.tiff')[:ntheta]\n",
    "code = np.load('data/code.npy')\n",
    "shifts_code = np.load('data/shifts_code.npy')[:, :npos]"
   ]
  },
  {
   "cell_type": "markdown",
   "id": "d4fa736b",
   "metadata": {},
   "source": [
    "### Show an example of data and the code"
   ]
  },
  {
   "cell_type": "code",
   "execution_count": null,
   "id": "4635df68",
   "metadata": {},
   "outputs": [],
   "source": [
    "mshow(data00[0,0])\n",
    "mshow_polar(code[0])"
   ]
  },
  {
   "cell_type": "markdown",
   "id": "daee2463",
   "metadata": {},
   "source": [
    "# Construct operators\n"
   ]
  },
  {
   "cell_type": "markdown",
   "id": "c59386e4",
   "metadata": {},
   "source": [
    "#### Forward holo: $d=\\mathcal{G}_{z}\\left(\\mathcal{G}_{z'}(q(\\mathcal{S}_{s_{j}}c))\\psi\\right)$,\n",
    "#### Adjoint holo: $\\psi=\\sum_j\\left((\\mathcal{G}_{z_j'}(q\\mathcal{S}_{s'_{kj}}c))^*\\mathcal{G}^H_{z}d\\right)$.\n",
    "\n",
    "\n"
   ]
  },
  {
   "cell_type": "code",
   "execution_count": null,
   "id": "eb3467a1",
   "metadata": {},
   "outputs": [],
   "source": [
    "@gpu_batch\n",
    "def _fwd_holo(psi, shifts_code, code, prb):\n",
    "    prb = cp.array(prb)\n",
    "    code = cp.array(code)\n",
    "    shifts_code = cp.array(shifts_code)\n",
    "\n",
    "    data = cp.zeros([psi.shape[0], npos, n, n], dtype='complex64')\n",
    "    for i in range(npos):\n",
    "        # ill shift for each acquisition\n",
    "        prbr = cp.tile(prb, [psi.shape[0], 1, 1])\n",
    "        # code shift for each acquisition\n",
    "        coder = cp.tile(code, [psi.shape[0], 1, 1])\n",
    "        coder = S(coder, shifts_code[:, i])\n",
    "\n",
    "        coder = coder[:, ne-n//2-pad:ne+n//2+pad, ne-n//2-pad:ne+n//2+pad]\n",
    "\n",
    "        # multiply the code and ill\n",
    "        prbr *= coder\n",
    "        # propagate illumination\n",
    "        prbr = G(prbr, wavelength, voxelsize, distances2[i])\n",
    "\n",
    "        psir = psi.copy()\n",
    "\n",
    "        # multiply the ill and object\n",
    "        psir *= prbr\n",
    "\n",
    "        # propagate both\n",
    "        psir = G(psir, wavelength, voxelsize, distances[i])\n",
    "        data[:, i] = psir[:, pad:n+pad, pad:n+pad]\n",
    "    return data\n",
    "\n",
    "\n",
    "def fwd_holo(psi, prb):\n",
    "    return _fwd_holo(psi, shifts_code, code, prb)\n",
    "\n",
    "\n",
    "@gpu_batch\n",
    "def _adj_holo(data, shifts_code, code, prb):\n",
    "    prb = cp.array(prb)\n",
    "    code = cp.array(code)\n",
    "    shifts_code = cp.array(shifts_code)\n",
    "    psi = cp.zeros([data.shape[0], ne, ne], dtype='complex64')\n",
    "    for j in range(npos):\n",
    "        psir = cp.pad(data[:, j], ((0, 0), (pad, pad), (pad, pad)))\n",
    "\n",
    "        # propagate data back\n",
    "        psir = GT(psir, wavelength, voxelsize, distances[j])\n",
    "\n",
    "        # ill shift for each acquisition\n",
    "        prbr = cp.tile(prb, [psi.shape[0], 1, 1])\n",
    "        # code shift for each acquisition\n",
    "        coder = cp.tile(code, [psi.shape[0], 1, 1])\n",
    "\n",
    "        coder = S(coder, shifts_code[:, j])\n",
    "        coder = coder[:, ne-n//2-pad:ne+n//2+pad, ne-n//2-pad:ne+n//2+pad]\n",
    "        # multiply the code and ill\n",
    "        prbr *= coder\n",
    "        # propagate illumination\n",
    "        prbr = G(prbr, wavelength, voxelsize, distances2[j])\n",
    "\n",
    "        # multiply the conj ill and object\n",
    "        psir *= cp.conj(prbr)\n",
    "\n",
    "        # object shift for each acquisition\n",
    "        psi += psir\n",
    "    return psi\n",
    "\n",
    "\n",
    "def adj_holo(data, prb):\n",
    "    return _adj_holo(data, shifts_code, code, prb)\n",
    "\n",
    "\n",
    "# adjoint test\n",
    "data = data00.copy()\n",
    "arr1 = np.pad(np.array(data[:, 0]+1j*data[:, 0]).astype('complex64'),\n",
    "              ((0, 0), (ne//2-n//2, ne//2-n//2), (ne//2-n//2, ne//2-n//2)), 'symmetric')\n",
    "prb1 = np.ones([1, n+2*pad, n+2*pad], dtype='complex64')\n",
    "arr2 = fwd_holo(arr1, prb1)\n",
    "arr3 = adj_holo(arr2, prb1)\n",
    "\n",
    "print(f'{np.sum(arr1*np.conj(arr3))}==\\n{np.sum(arr2*np.conj(arr2))}')"
   ]
  },
  {
   "cell_type": "markdown",
   "id": "42684b42",
   "metadata": {},
   "source": [
    "### Propagate the code to the detector and divide all data by it"
   ]
  },
  {
   "cell_type": "code",
   "execution_count": null,
   "id": "c237c096",
   "metadata": {},
   "outputs": [],
   "source": [
    "\n",
    "psi = np.ones([ntheta,ne,ne],dtype='complex64')\n",
    "prb = np.ones([1,n+2*pad,n+2*pad],dtype='complex64')\n",
    "d = np.abs(fwd_holo(psi,prb))**2\n",
    "\n",
    "rdata = data00/d\n",
    "mshow(rdata[0,0])"
   ]
  },
  {
   "cell_type": "code",
   "execution_count": null,
   "id": "00e94364",
   "metadata": {},
   "outputs": [],
   "source": [
    "# distances should not be normalized\n",
    "distances_pag = (distances/norm_magnifications**2)[:npos]\n",
    "recMultiPaganin = np.exp(1j*multiPaganin(rdata,\n",
    "                         distances_pag, wavelength, voxelsize,  100, 1e-12))\n",
    "mshow(np.angle(recMultiPaganin[0]))"
   ]
  },
  {
   "cell_type": "markdown",
   "id": "1fe0cb15",
   "metadata": {},
   "source": [
    "#### Main reconstruction. $\\left\\||\\mathcal{G}_{z}(\\mathcal{G}_{z'}(q\\mathcal{S}_{s_{j}}c)\\psi)|-\\sqrt{d}\\right\\|_2^2\\to min$"
   ]
  },
  {
   "cell_type": "code",
   "execution_count": null,
   "id": "3e22132b",
   "metadata": {},
   "outputs": [],
   "source": [
    "def line_search(minf, gamma, fu, fd):\n",
    "    \"\"\" Line search for the step sizes gamma\"\"\"\n",
    "    while (minf(fu)-minf(fu+gamma*fd) < 0 and gamma > 1e-12):\n",
    "        gamma *= 0.5\n",
    "    if (gamma <= 1e-12):  # direction not found\n",
    "        # print('no direction')\n",
    "        gamma = 0\n",
    "    return gamma\n",
    "\n",
    "\n",
    "def cg_holo(data, init_psi,  pars):\n",
    "    \"\"\"Conjugate gradients method for holography\"\"\"\n",
    "    # minimization functional\n",
    "    def minf(fpsi):\n",
    "        f = np.linalg.norm(np.abs(fpsi)-data)**2\n",
    "        return f\n",
    "\n",
    "    data = np.sqrt(data)\n",
    "    psi = init_psi.copy()\n",
    "\n",
    "    for i in range(pars['niter']):\n",
    "        # Calculate the gradient\n",
    "        fpsi = fwd_holo(psi, prb)\n",
    "        grad = adj_holo(fpsi-data*np.exp(1j*np.angle(fpsi)), prb)\n",
    "\n",
    "        # Dai-Yuan direction for the CG solver\n",
    "        if i == 0:\n",
    "            d = -grad\n",
    "        else:\n",
    "            d = dai_yuan(d, grad, grad0)\n",
    "        grad0 = grad\n",
    "\n",
    "        # line search\n",
    "        fd = fwd_holo(d, prb)\n",
    "        gamma = line_search(minf, pars['gammapsi'], fpsi, fd)\n",
    "\n",
    "        # update psi\n",
    "        psi += gamma*d\n",
    "\n",
    "        if i % pars['err_step'] == 0:\n",
    "            fpsi = fwd_holo(psi, prb)\n",
    "            err = minf(fpsi)\n",
    "            print(f'{i}) {gamma=}, {err=:1.5e}')\n",
    "\n",
    "        if i % pars['vis_step'] == 0:\n",
    "            mshow_polar(psi[0])\n",
    "\n",
    "    return psi\n",
    "\n",
    "\n",
    "# chunks on gpu - SLOWER\n",
    "rec_psi = np.pad(recMultiPaganin, ((0, 0), (ne//2-n//2, ne//2-n//2), (ne//2-n//2, ne//2-n//2)), 'edge')\n",
    "data = data00.copy()\n",
    "\n",
    "\n",
    "# fully on gpu - FASTER\n",
    "# rec_psi = cp.array(np.pad(recMultiPaganin, ((\n",
    "#     0, 0), (ne//2-n//2, ne//2-n//2), (ne//2-n//2, ne//2-n//2)), 'edge'))\n",
    "# data = cp.array(data00.copy())\n",
    "\n",
    "pars = {'niter': 16, 'err_step': 4, 'vis_step': 16, 'gammapsi': 0.5}\n",
    "rec_psi = cg_holo(data, rec_psi, pars)"
   ]
  },
  {
   "cell_type": "code",
   "execution_count": null,
   "id": "e6e501be",
   "metadata": {},
   "outputs": [],
   "source": [
    "write_tiff(np.abs(rec_psi),'data/rec_abs')\n",
    "write_tiff(np.angle(rec_psi),'data/rec_angle')"
   ]
  }
 ],
 "metadata": {
  "kernelspec": {
   "display_name": "Python 3 (ipykernel)",
   "language": "python",
   "name": "python3"
  },
  "language_info": {
   "codemirror_mode": {
    "name": "ipython",
    "version": 3
   },
   "file_extension": ".py",
   "mimetype": "text/x-python",
   "name": "python",
   "nbconvert_exporter": "python",
   "pygments_lexer": "ipython3",
   "version": "3.10.13"
  }
 },
 "nbformat": 4,
 "nbformat_minor": 5
}
