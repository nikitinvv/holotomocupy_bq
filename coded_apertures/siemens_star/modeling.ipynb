{
 "cells": [
  {
   "cell_type": "code",
   "execution_count": null,
   "id": "fad77fab-e206-47c1-9655-088d14fe30cb",
   "metadata": {},
   "outputs": [],
   "source": [
    "import numpy as np\n",
    "import cupy as cp\n",
    "import dxchange\n",
    "import matplotlib.pyplot as plt\n",
    "import cv2\n",
    "import xraylib\n",
    "\n",
    "from holotomocupy.holo import G\n",
    "from holotomocupy.magnification import M\n",
    "from holotomocupy.shift import S\n",
    "from holotomocupy.utils import *\n",
    "\n",
    "%matplotlib inline\n",
    "\n",
    "np.random.seed(10)"
   ]
  },
  {
   "cell_type": "markdown",
   "id": "3c0fdd65-1cff-451e-865e-56cd8b7882a6",
   "metadata": {},
   "source": [
    "# Init data sizes and parametes of the PXM of ID16A"
   ]
  },
  {
   "cell_type": "code",
   "execution_count": null,
   "id": "59fa16f2-1f9c-4b3a-a330-e10942f12234",
   "metadata": {},
   "outputs": [],
   "source": [
    "n = 1024  # object size in each dimension\n",
    "ntheta = 1  # number of angles (rotations)\n",
    "\n",
    "center = n/2  # rotation axis\n",
    "\n",
    "npos = 4  # number of code positions \n",
    "\n",
    "detector_pixelsize = 3e-6\n",
    "energy = 33.35  # [keV] xray energy\n",
    "wavelength = 1.2398419840550367e-09/energy  # [m] wave length\n",
    "\n",
    "focusToDetectorDistance = 1.28  # [m]\n",
    "sx0 = 3.7e-4\n",
    "z1 = 4.584e-3-sx0#np.array([4.584e-3, 4.765e-3, 5.488e-3, 6.9895e-3])[:npos]-sx0\n",
    "z1 = np.tile(z1,[npos])\n",
    "z2 = focusToDetectorDistance-z1\n",
    "distances = (z1*z2)/focusToDetectorDistance\n",
    "magnifications = focusToDetectorDistance/z1\n",
    "voxelsize = detector_pixelsize/magnifications[0]*2048/n  # object voxel size\n",
    "\n",
    "norm_magnifications = magnifications/magnifications[0]\n",
    "# scaled propagation distances due to magnified probes\n",
    "distances = distances*norm_magnifications**2\n",
    "\n",
    "z1p = 8e-3  # positions of the code and the probe for reconstruction\n",
    "\n",
    "z2p = z1-np.tile(z1p, len(z1))\n",
    "# magnification when propagating from the probe plane to the detector\n",
    "magnifications2 = z1/z1p\n",
    "# propagation distances after switching from the point source wave to plane wave,\n",
    "distances2 = (z1p*z2p)/(z1p+z2p)\n",
    "norm_magnifications2 = magnifications2/(z1p/z1[0])  # normalized magnifications\n",
    "# scaled propagation distances due to magnified probes\n",
    "distances2 = distances2*norm_magnifications2**2\n",
    "distances2 = distances2*(z1p/z1)**2\n",
    "\n",
    "# allow padding if there are shifts of the probe\n",
    "pad = n//16*0\n",
    "# sample size after demagnification\n",
    "ne = n+2*pad"
   ]
  },
  {
   "cell_type": "markdown",
   "id": "49eb1696-bb30-496e-8c3d-565f2791112c",
   "metadata": {},
   "source": [
    "### Generate siemens star and form the transmittance function for it"
   ]
  },
  {
   "cell_type": "code",
   "execution_count": null,
   "id": "8a579ce4-0cd2-4769-a03d-7614aa96b0a8",
   "metadata": {},
   "outputs": [],
   "source": [
    "img = np.zeros((ne, ne, 3), np.uint8)\n",
    "triangle = np.array([(ne//16, ne//2-ne//32), (ne//16, ne//2+ne//32), (ne//2-ne//128, ne//2)], np.float32)\n",
    "star = img[:,:,0]*0\n",
    "for i in range(0, 360, 15):\n",
    "    img = np.zeros((ne, ne, 3), np.uint8)\n",
    "    degree = i\n",
    "    theta = degree * np.pi / 180\n",
    "    rot_mat = np.array([[np.cos(theta), -np.sin(theta)],\n",
    "                        [np.sin(theta), np.cos(theta)]], np.float32)    \n",
    "    rotated = cv2.gemm(triangle-ne//2, rot_mat, 1, None, 1, flags=cv2.GEMM_2_T)+ne//2\n",
    "    cv2.fillPoly(img, [np.int32(rotated)], (255, 0, 0))\n",
    "    star+=img[:,:,0]\n",
    "[x,y] = np.meshgrid(np.arange(-ne//2,ne//2),np.arange(-ne//2,ne//2))\n",
    "x = x/ne*2\n",
    "y = y/ne*2\n",
    "# add holes in triangles\n",
    "circ = (x**2+y**2>0.355)+(x**2+y**2<0.345)\n",
    "circ *= (x**2+y**2>0.083)+(x**2+y**2<0.08)\n",
    "circ *= (x**2+y**2>0.0085)+(x**2+y**2<0.008)\n",
    "star = star*circ/255\n",
    "\n",
    "v = np.arange(-ne//2,ne//2)/ne\n",
    "[vx,vy] = np.meshgrid(v,v)\n",
    "v = np.exp(-5*(vx**2+vy**2))\n",
    "fu = np.fft.fftshift(np.fft.fftn(np.fft.fftshift(star)))\n",
    "star = np.fft.fftshift(np.fft.ifftn(np.fft.fftshift(fu*v))).real\n",
    "\n",
    "delta = 1-xraylib.Refractive_Index_Re('Au',energy,19.3)\n",
    "beta = xraylib.Refractive_Index_Im('Au',energy,19.3)\n",
    "\n",
    "thickness = 2e-6/voxelsize # siemens star thickness in pixels\n",
    "# form Transmittance function\n",
    "u = star*(-delta+1j*beta) # note -delta\n",
    "Ru = u*thickness \n",
    "psi = np.exp(1j * Ru * voxelsize * 2 * np.pi / wavelength)[np.newaxis].astype('complex64')\n",
    "\n",
    "\n",
    "mshow_polar(psi[0])"
   ]
  },
  {
   "cell_type": "markdown",
   "id": "bc0f342c-c899-4a73-9871-9717e2bc96c6",
   "metadata": {},
   "source": [
    "## Use prb==1"
   ]
  },
  {
   "cell_type": "code",
   "execution_count": null,
   "id": "6ae30f8e-2518-42aa-bbbc-9a2664e74e2d",
   "metadata": {},
   "outputs": [],
   "source": [
    "prb = np.ones([ntheta,n+2*pad,n+2*pad],dtype='complex64')"
   ]
  },
  {
   "cell_type": "markdown",
   "id": "fab6f53c",
   "metadata": {},
   "source": [
    "### Generate a coded aperture, make it twice bigger than the sample to allow motion"
   ]
  },
  {
   "cell_type": "code",
   "execution_count": null,
   "id": "1b148894",
   "metadata": {},
   "outputs": [],
   "source": [
    "import random\n",
    "import xraylib\n",
    "import scipy.ndimage as ndimage\n",
    "\n",
    "code_thickness = 2e-6 #in m\n",
    "ill_feature_size = 1e-6 #in m\n",
    "\n",
    "random.seed(10)\n",
    "nill = 2*ne\n",
    "ill_global = np.zeros([1,nill,nill],dtype='bool')\n",
    "for k in  range(ill_global.shape[0]):\n",
    "    ill0 = np.zeros([nill*nill],dtype='bool')\n",
    "    ill_ids = random.sample(range(0, nill*nill), nill*nill//2)\n",
    "    ill0[ill_ids] = 1\n",
    "    ill_global[k] = ill0.reshape(nill,nill)\n",
    "\n",
    "# form codes for simulations\n",
    "\n",
    "nill = int(ne*voxelsize/magnifications2[0]//(ill_feature_size*2))*2\n",
    "ill = np.zeros([1,nill,nill],dtype='bool')\n",
    "for k in  range(ill.shape[0]):\n",
    "    ill0 = ill_global[k]\n",
    "    ill[k] = ill0[ill0.shape[0]//2-nill//2:ill0.shape[0]//2+(nill)//2,ill0.shape[1]//2-nill//2:ill0.shape[1]//2+(nill)//2]#.reshape(nill,nill)\n",
    "    \n",
    "ill = ndimage.zoom(ill,[1,2*ne/nill,2*ne/nill],order=0,grid_mode=True,mode='grid-wrap')\n",
    "\n",
    "delta = 1-xraylib.Refractive_Index_Re('Au',energy,19.3)\n",
    "beta = xraylib.Refractive_Index_Im('Au',energy,19.3)\n",
    "\n",
    "thickness = code_thickness/voxelsize # thickness in pixels\n",
    "\n",
    "v = np.arange(-2*ne//2,2*ne//2)/2/ne\n",
    "[vx,vy] = np.meshgrid(v,v)\n",
    "v = np.exp(-3*(vx**2+vy**2))\n",
    "fill = np.fft.fftshift(np.fft.fftn(np.fft.fftshift(ill)))\n",
    "ill = np.fft.fftshift(np.fft.ifftn(np.fft.fftshift(fill*v)))\n",
    "ill = ill.astype('complex64')\n",
    "\n",
    "\n",
    "# form Transmittance function\n",
    "Rill = ill*(-delta+1j*beta)*thickness \n",
    "code = np.exp(1j * Rill * voxelsize * 2 * np.pi / wavelength).astype('complex64')\n",
    "\n",
    "mshow_polar(code[0])"
   ]
  },
  {
   "cell_type": "markdown",
   "id": "d1d02f36",
   "metadata": {},
   "source": [
    "### Shifts/drifts"
   ]
  },
  {
   "cell_type": "code",
   "execution_count": null,
   "id": "e79c03a1",
   "metadata": {},
   "outputs": [],
   "source": [
    "# shifts of codes\n",
    "shifts_code = np.round((np.random.random([ntheta, npos, 2]).astype('float32')-0.5)*ne/4)\n",
    "np.save('data/shifts_code', shifts_code)\n"
   ]
  },
  {
   "cell_type": "markdown",
   "id": "34abfd9e-9dde-4241-8055-96cec24c18fb",
   "metadata": {},
   "source": [
    "### Compute holographic projections for all angles and all distances\n",
    "#### $d=\\left|\\mathcal{G}_{z}(\\mathcal{G}_{z'}(q\\mathcal{S}_{s_{j}}c)\\psi)\\right|_2^2$"
   ]
  },
  {
   "cell_type": "code",
   "execution_count": null,
   "id": "0472ad04",
   "metadata": {},
   "outputs": [],
   "source": [
    "from holotomocupy.chunking import gpu_batch\n",
    "\n",
    "@gpu_batch\n",
    "def fwd_holo(psi, shifts_code, prb,code):\n",
    "    prb = cp.array(prb)\n",
    "    code = cp.array(code)\n",
    "    shifts_code = cp.array(shifts_code)    \n",
    "    \n",
    "    data = cp.zeros([psi.shape[0],npos,n,n],dtype='complex64')\n",
    "    for i in range(npos):        \n",
    "        # ill shift for each acquisition\n",
    "        prbr = prb.copy()\n",
    "        # code shift for each acquisition        \n",
    "        coder = code.copy()\n",
    "        coder = S(coder, shifts_code[:,i])    \n",
    "        \n",
    "        coder = coder[:,ne-n//2-pad:ne+n//2+pad,ne-n//2-pad:ne+n//2+pad]\n",
    "        \n",
    "        # multiply the code and ill\n",
    "        prbr *= coder        \n",
    "        # propagate illumination\n",
    "        prbr = G(prbr, wavelength, voxelsize, distances2[i])\n",
    "        \n",
    "        psir = psi.copy()\n",
    "                \n",
    "        # multiply the ill and object\n",
    "        psir *= prbr\n",
    "\n",
    "        # propagate both\n",
    "        psir = G(psir, wavelength, voxelsize, distances[i])   \n",
    "        data[:,i] = psir[:,pad:n+pad,pad:n+pad]\n",
    "    return data\n",
    "\n",
    "fpsi = fwd_holo(psi,shifts_code,prb,code)"
   ]
  },
  {
   "cell_type": "markdown",
   "id": "18e9c352-2b2c-49d7-adc0-301a05da964c",
   "metadata": {},
   "source": [
    "### Take squared absolute value to simulate data on the detector"
   ]
  },
  {
   "cell_type": "code",
   "execution_count": null,
   "id": "f4f94fd7-b14c-4dc3-832c-2f00d1674039",
   "metadata": {},
   "outputs": [],
   "source": [
    "data = np.abs(fpsi)**2"
   ]
  },
  {
   "cell_type": "markdown",
   "id": "7c052b38",
   "metadata": {},
   "source": [
    "### Visualize data"
   ]
  },
  {
   "cell_type": "code",
   "execution_count": null,
   "id": "f8739412",
   "metadata": {},
   "outputs": [],
   "source": [
    "for k in range(npos):\n",
    "    mshow(data[0,k])"
   ]
  },
  {
   "cell_type": "markdown",
   "id": "80625cf6-2687-43fa-8d0a-dd3396f91aa7",
   "metadata": {},
   "source": [
    "### Save data and shifts"
   ]
  },
  {
   "cell_type": "code",
   "execution_count": null,
   "id": "1edf3f41-30cb-4092-b90c-ca2f1f829ac7",
   "metadata": {},
   "outputs": [],
   "source": [
    "for k in range(len(distances)):\n",
    "    write_tiff(data[:,k],f'data/data_{n}_{k}')\n",
    "np.save('data/code',code)"
   ]
  }
 ],
 "metadata": {
  "kernelspec": {
   "display_name": "Python 3 (ipykernel)",
   "language": "python",
   "name": "python3"
  },
  "language_info": {
   "codemirror_mode": {
    "name": "ipython",
    "version": 3
   },
   "file_extension": ".py",
   "mimetype": "text/x-python",
   "name": "python",
   "nbconvert_exporter": "python",
   "pygments_lexer": "ipython3",
   "version": "3.10.13"
  }
 },
 "nbformat": 4,
 "nbformat_minor": 5
}
